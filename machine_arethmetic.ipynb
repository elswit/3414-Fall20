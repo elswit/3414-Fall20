{
  "nbformat": 4,
  "nbformat_minor": 0,
  "metadata": {
    "colab": {
      "name": "Machine-Arethmetic.ipynb",
      "provenance": []
    },
    "kernelspec": {
      "display_name": "Python 3",
      "language": "python",
      "name": "python3"
    },
    "language_info": {
      "codemirror_mode": {
        "name": "ipython",
        "version": 3
      },
      "file_extension": ".py",
      "mimetype": "text/x-python",
      "name": "python",
      "nbconvert_exporter": "python",
      "pygments_lexer": "ipython3",
      "version": "3.8.3"
    }
  },
  "cells": [
    {
      "cell_type": "markdown",
      "metadata": {
        "colab_type": "text",
        "id": "TyiRxXWMF693"
      },
      "source": [
        "# Machine Arithmetic\n",
        "\n",
        "\n",
        "---\n",
        "\n",
        "\n",
        "## Binary numbers\n",
        "\n",
        "$ x \\in \\mathbb{R}, \\\\\n",
        "x =  \\pm ( \\cdots + b_n 2^n + b_{n-1}2^{n-1} + \\cdots + b_0 + b_{-1}2^{-1} + \\cdots ) $\n",
        "\n",
        "$b_i  \\in \\{ 0,1\\}$"
      ]
    },
    {
      "cell_type": "markdown",
      "metadata": {
        "id": "2wtkjheciNLp",
        "colab_type": "text"
      },
      "source": [
        "x = $\\pm ( \\cdots b_n b_{n-1} \\cdots b_0 b_{-1} \\cdots )_2$\n",
        "  \n",
        "\n",
        "\n",
        "Is this representation\n",
        " * finite ?\n",
        " * unique ? "
      ]
    },
    {
      "cell_type": "markdown",
      "metadata": {
        "id": "GYAhAlbkhrvn",
        "colab_type": "text"
      },
      "source": [
        "$0.011111 \\cdots \\overset{?}{=} 0.1$\n",
        "\n",
        " (hint $\\sum_{i=0} 2^{-i}$ is convergent)"
      ]
    },
    {
      "cell_type": "code",
      "metadata": {
        "id": "3F2magwahrvn",
        "colab_type": "code",
        "colab": {}
      },
      "source": [
        ""
      ],
      "execution_count": null,
      "outputs": []
    },
    {
      "cell_type": "markdown",
      "metadata": {
        "id": "ZYBilOsRhrvq",
        "colab_type": "text"
      },
      "source": [
        "## Examples\n",
        "\n",
        "* Convert 8.25 from decimal to binary:\n",
        "\n",
        "$\\frac{33}{4} = 8 + \\frac{1}{4} = 2^3 + 2^{-2}  = (1000.01)_2$\n",
        "\n",
        "* Convert 1.2 from decimal to binary:\n",
        "\n",
        "$ \\begin{align}\n",
        "1.2 &= 1\\cdot 2^0 + \\cdots \\\\\n",
        "    &= 1\\cdot 2^0 + 0\\cdot 2^{-1} + \\cdots \\\\\n",
        "    &= 1\\cdot 2^0 + 0\\cdot 2^{-1} + 0\\cdot 2^{-2 }+ \\cdots \\\\\n",
        "    &= 1\\cdot 2^0 + 0\\cdot 2^{-1} + 0\\cdot 2^{-2 }+ 1\\cdot 2^{-3} + 0.075 \\\\ \n",
        "    &= 1\\cdot 2^0 + 0\\cdot 2^{-1} + 0\\cdot 2^{-2 }+ 1\\cdot 2^{-3} + 1 \\cdot 2^{-4} + 0 \\cdot 2^{-5} + \\cdots  \\\\\n",
        "    & = (1.00110\\cdots)_2\n",
        "\\end{align}$\n",
        "\n",
        "What's odd in this example? \n"
      ]
    },
    {
      "cell_type": "markdown",
      "metadata": {
        "id": "B2jMg5KhR8eX",
        "colab_type": "text"
      },
      "source": [
        ""
      ]
    },
    {
      "cell_type": "code",
      "metadata": {
        "id": "ozmvHZ1Ohrvq",
        "colab_type": "code",
        "colab": {}
      },
      "source": [
        ""
      ],
      "execution_count": null,
      "outputs": []
    },
    {
      "cell_type": "markdown",
      "metadata": {
        "id": "3Pc1h6zCnF1A",
        "colab_type": "text"
      },
      "source": [
        "\n",
        "\n",
        "---\n",
        "\n",
        "\n",
        "## Machine Numbers\n",
        "\n",
        "We need to limit the representation to a fixed byte size.\n",
        "\n",
        "###  Fixed point numbers\n",
        "$\n",
        " x^\\star := \\pm (\\,b_{n-1}\\,c_{n-2}\\,\\cdots\\, c_{0}.\\ b_{-1}\\,b_{-2}\\,\\cdots\\, b_{-t})_2\n",
        "$\n",
        "* Is this a good scheme for storing numers?\n",
        "\n",
        "###  Floating point numbers\n",
        "$ \\begin{align}\n",
        " x^\\star & := m\\cdot 2^e, \\\\\n",
        " m &= \\pm (0 .\\,b_{-1}\\,b_{-2}\\,\\cdots\\, b_{-t})_2,  \\\\\n",
        "  e &= \\pm (\\,c_{s-1}\\,c_{s-2}\\,\\cdots\\, c_{0}. \\,0)_2,  \\\\\n",
        "  c_i, m_i &\\in \\{0,1 \\},\n",
        " \\end{align}$\n",
        "\n",
        "\n",
        "\n",
        " * What are the peculiarities of the mantissa and  exponent scheme?\n",
        " * How many bits does it take to store this numebr?\n",
        " * We assume $b_{-1} = 1$ and call it *normalized*.  \n",
        " Why? \n",
        " (hint: multiplication by 2 is a shift)\n",
        " * How we reprenset 0 in this form ? Any other special cases  missing  ?\n",
        " * Can we represent every real number in this form? \n",
        " * Underflow and overflow \n",
        "\n"
      ]
    },
    {
      "cell_type": "code",
      "metadata": {
        "id": "rt_v5fhjrTQV",
        "colab_type": "code",
        "colab": {
          "base_uri": "https://localhost:8080/",
          "height": 50
        },
        "outputId": "d9121514-88ed-4c06-e0d4-afc0b0203790"
      },
      "source": [
        "from numpy import  binary_repr\n",
        "def my_int2bin(a):\n",
        "    string = binary_repr(a, width=8)\n",
        "    return string\n",
        "\n",
        "print(my_int2bin(5))\n",
        "print(my_int2bin(10))"
      ],
      "execution_count": 23,
      "outputs": [
        {
          "output_type": "stream",
          "text": [
            "00000101\n",
            "00001010\n"
          ],
          "name": "stdout"
        }
      ]
    },
    {
      "cell_type": "markdown",
      "metadata": {
        "id": "-TVm8ecZt5es",
        "colab_type": "text"
      },
      "source": [
        "What are the largest and smalles positive numbers that can be  represented  in this form? \n",
        "* $\\min |x| = 2^{- 2^s} $\n",
        "* $ max |x| =  (1- 2^{-t}) \\cdot 2^{2^s -1} $"
      ]
    },
    {
      "cell_type": "code",
      "metadata": {
        "id": "kaaYzXpqSWTs",
        "colab_type": "code",
        "colab": {}
      },
      "source": [
        ""
      ],
      "execution_count": null,
      "outputs": []
    },
    {
      "cell_type": "markdown",
      "metadata": {
        "id": "YNgczWSozqUM",
        "colab_type": "text"
      },
      "source": [
        "How does the spread of these  numbers look like? \n",
        "\n",
        " ![https://upload.wikimedia.org/wikipedia/commons/thumb/6/69/Denormalized_numbers_on_a_line.svg/1000px-Denormalized_numbers_on_a_line.svg.png](https://upload.wikimedia.org/wikipedia/commons/thumb/6/69/Denormalized_numbers_on_a_line.svg/1000px-Denormalized_numbers_on_a_line.svg.png)\n",
        "[licensed under CC BY-SA 3.0 by Blacklemon67]\n",
        "\n",
        "Actual standards in use: Float (single precision), double(precision), etc. (Refer to [IEEE 754](https://en.wikipedia.org/wiki/IEEE_754#Basic_and_interchange_formats)) for examples.\n",
        "\n",
        "\n"
      ]
    },
    {
      "cell_type": "code",
      "metadata": {
        "id": "FgwOE_CA0dI2",
        "colab_type": "code",
        "colab": {}
      },
      "source": [
        ""
      ],
      "execution_count": null,
      "outputs": []
    },
    {
      "cell_type": "markdown",
      "metadata": {
        "id": "GNnR7zt8CV1H",
        "colab_type": "text"
      },
      "source": [
        ""
      ]
    }
  ]
}