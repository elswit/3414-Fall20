{
  "nbformat": 4,
  "nbformat_minor": 0,
  "metadata": {
    "colab": {
      "name": "Machine-Arethmetic.ipynb",
      "provenance": []
    },
    "kernelspec": {
      "display_name": "Python 3",
      "language": "python",
      "name": "python3"
    },
    "language_info": {
      "codemirror_mode": {
        "name": "ipython",
        "version": 3
      },
      "file_extension": ".py",
      "mimetype": "text/x-python",
      "name": "python",
      "nbconvert_exporter": "python",
      "pygments_lexer": "ipython3",
      "version": "3.8.3"
    }
  },
  "cells": [
    {
      "cell_type": "markdown",
      "metadata": {
        "colab_type": "text",
        "id": "TyiRxXWMF693"
      },
      "source": [
        "# Machine Arithmetic\n",
        "\n",
        "## Binary numbers\n",
        "\n",
        "$ x \\in \\mathbb{R}, \\\\\n",
        "x =  \\pm ( \\cdots + b_n 2^n + b_{n-1}2^{n-1} + \\cdots + b_0 + b_{-1}2^{-1} + \\cdots ) $\n",
        "\n",
        "$b_i  \\in \\{ 0,1\\}$"
      ]
    },
    {
      "cell_type": "markdown",
      "metadata": {
        "id": "2wtkjheciNLp",
        "colab_type": "text"
      },
      "source": [
        "x = $\\pm ( \\cdots b_n b_{n-1} \\cdots b_0 b_{-1} \\cdots )_2$\n",
        "  \n",
        "\n",
        "\n",
        "Is this representation\n",
        " * finite ?\n",
        " * unique ? "
      ]
    },
    {
      "cell_type": "markdown",
      "metadata": {
        "id": "GYAhAlbkhrvn",
        "colab_type": "text"
      },
      "source": [
        "$0.011111 \\cdots \\overset{?}{=} 0.1$\n",
        "\n",
        " (hint $\\sum_{i=0} 2^{-i}$ is convergent)"
      ]
    },
    {
      "cell_type": "code",
      "metadata": {
        "id": "3F2magwahrvn",
        "colab_type": "code",
        "colab": {}
      },
      "source": [
        ""
      ],
      "execution_count": null,
      "outputs": []
    },
    {
      "cell_type": "markdown",
      "metadata": {
        "id": "ZYBilOsRhrvq",
        "colab_type": "text"
      },
      "source": [
        "## Examples\n",
        "\n",
        "* Convert 8.25 from decimal to binary:\n",
        "\n",
        "$\\frac{33}{4} = 8 + \\frac{1}{4} = 2^3 + 2^{-2}  = (1000.01)_2$\n",
        "\n",
        "* Convert 1.2 from decimal to binary:\n",
        "\n",
        "$ \\begin{align}\n",
        "1.2 &= 1\\cdot 2^0 + \\cdots \\\\\n",
        "    &= 1\\cdot 2^0 + 0\\cdot 2^{-1} + \\cdots \\\\\n",
        "    &= 1\\cdot 2^0 + 0\\cdot 2^{-1} + 0\\cdot 2^{-2 }+ \\cdots \\\\\n",
        "    &= 1\\cdot 2^0 + 0\\cdot 2^{-1} + 0\\cdot 2^{-2 }+ 1\\cdot 2^{-3} + 0.075 \\\\ \n",
        "    &= 1\\cdot 2^0 + 0\\cdot 2^{-1} + 0\\cdot 2^{-2 }+ 1\\cdot 2^{-3} + 1 \\cdot 2^{-4} + 0 \\cdot 2^{-5} + \\cdots  \\\\\n",
        "    & = (1.00110\\cdots)_2\n",
        "\\end{align}$\n",
        "\n",
        "What's odd in this example? \n"
      ]
    },
    {
      "cell_type": "code",
      "metadata": {
        "id": "ozmvHZ1Ohrvq",
        "colab_type": "code",
        "colab": {}
      },
      "source": [
        ""
      ],
      "execution_count": null,
      "outputs": []
    }
  ]
}