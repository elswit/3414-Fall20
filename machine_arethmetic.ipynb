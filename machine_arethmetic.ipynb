{
 "cells": [
  {
   "cell_type": "markdown",
   "metadata": {},
   "source": [
    "<!-- <table>\n",
    " <tr align=left><td><img align=left src=\"https://mirrors.creativecommons.org/presskit/buttons/80x15/png/by.png\">\n",
    " <td>Text provided under a Creative Commons Attribution license, CC-BY. All code is made available under the FSF-approved MIT license. Created for CS/MATH 3414 by Arash Sarshar.</td>\n",
    " <td> </td>\n",
    "</table> -->"
   ]
  },
  {
   "cell_type": "markdown",
   "metadata": {
    "colab_type": "text",
    "id": "mucsPPzebuXh"
   },
   "source": [
    "# Machine Arithmetic\n",
    "\n",
    "\n",
    "---"
   ]
  },
  {
   "cell_type": "markdown",
   "metadata": {
    "colab_type": "text",
    "id": "gdi4IMGWbykZ"
   },
   "source": [
    "\n",
    "## Binary numbers"
   ]
  },
  {
   "cell_type": "markdown",
   "metadata": {
    "colab_type": "text",
    "id": "TyiRxXWMF693"
   },
   "source": [
    "We want to represent real numbers in fromat amenable to computer hardware. \n",
    "\n",
    "\n",
    "$$ x \\in \\mathbb{R}, \\\\\n",
    "x =  \\pm ( \\cdots + b_n 2^n + b_{n-1}2^{n-1} + \\cdots + b_0 + b_{-1}2^{-1} + \\cdots ), \\quad b_i  \\in \\{ 0,1\\}. $$\n",
    "\n",
    "\n",
    "or in short form\n",
    "$$x = \\pm ( \\cdots b_n b_{n-1} \\cdots b_0 b_{-1} \\cdots )_2$$"
   ]
  },
  {
   "cell_type": "markdown",
   "metadata": {},
   "source": [
    "### Example 1\n",
    "\n",
    "* Convert 9.25 from decimal to binary:\n",
    "\n",
    "$9.25 = 8 + 1 + \\frac{1}{4} = 2^3 + 2^1 +  2^{-2}  = (1001.01)_2$"
   ]
  },
  {
   "cell_type": "code",
   "execution_count": null,
   "metadata": {},
   "outputs": [],
   "source": [
    "import numpy as np\n",
    "import matplotlib.pyplot as plt\n"
   ]
  },
  {
   "cell_type": "markdown",
   "metadata": {
    "colab_type": "text",
    "id": "ZYBilOsRhrvq"
   },
   "source": [
    "### Example 2\n",
    "\n",
    "* Convert 1.2 from decimal to binary:\n",
    "\n",
    "$ \\begin{align*}\n",
    "1.2 &= 1\\cdot 2^0 + \\cdots \\\\\n",
    "    &= 1\\cdot 2^0 + 0\\cdot 2^{-1} + \\cdots \\\\\n",
    "    &= 1\\cdot 2^0 + 0\\cdot 2^{-1} + 0\\cdot 2^{-2 }+ \\cdots \\\\\n",
    "    &= 1\\cdot 2^0 + 0\\cdot 2^{-1} + 0\\cdot 2^{-2 }+ 1\\cdot 2^{-3} + 0.075 \\\\ \n",
    "    &= 1\\cdot 2^0 + 0\\cdot 2^{-1} + 0\\cdot 2^{-2 }+ 1\\cdot 2^{-3} + 1 \\cdot 2^{-4} + 0 \\cdot 2^{-5} + \\cdots  \\\\\n",
    "    & = (1.00110\\cdots)_2\n",
    "\\end{align*}$\n",
    "\n",
    "What's odd in this example? \n"
   ]
  },
  {
   "cell_type": "code",
   "execution_count": null,
   "metadata": {},
   "outputs": [],
   "source": []
  },
  {
   "cell_type": "markdown",
   "metadata": {
    "colab_type": "text",
    "id": "2wtkjheciNLp"
   },
   "source": [
    "\n",
    "Is this representation\n",
    " * finite?\n",
    " * unique? "
   ]
  },
  {
   "cell_type": "markdown",
   "metadata": {
    "colab_type": "text",
    "id": "GYAhAlbkhrvn"
   },
   "source": [
    "$0.011111 \\cdots \\overset{?}{=} 0.1$\n",
    "\n",
    " (hint $\\sum_{i=0} 2^{-i}$ is convergent)"
   ]
  },
  {
   "cell_type": "code",
   "execution_count": null,
   "metadata": {},
   "outputs": [],
   "source": []
  },
  {
   "cell_type": "code",
   "execution_count": null,
   "metadata": {
    "colab": {},
    "colab_type": "code",
    "id": "3F2magwahrvn"
   },
   "outputs": [],
   "source": [
    "x = np.array([2**(-i) for i in range(0,  20)])\n",
    "print('%1.32f'% np.sum(x))"
   ]
  },
  {
   "cell_type": "markdown",
   "metadata": {
    "colab_type": "text",
    "id": "nZxkFekjbmsq"
   },
   "source": [
    "\n",
    "---\n",
    "\n",
    "\n",
    "## Machine Numbers"
   ]
  },
  {
   "cell_type": "markdown",
   "metadata": {
    "colab_type": "text",
    "id": "3Pc1h6zCnF1A"
   },
   "source": [
    "\n",
    "We need to limit the representation to a fixed byte size.\n",
    "\n",
    "###  Fixed point numbers\n",
    "$$\n",
    " x^\\star := \\pm (\\,c_{n-1}\\,c_{n-2}\\,\\cdots\\, c_{0}.\\ b_{-1}\\,b_{-2}\\,\\cdots\\, b_{-t})_2\n",
    "$$\n",
    "* Is this a good scheme for storing numers?\n",
    "\n",
    "###  Floating point numbers\n",
    "$$ \\begin{align*}\n",
    " x^\\star & := m\\cdot 2^e, \\\\\n",
    " m &= \\pm (0 .\\,b_{-1}\\,b_{-2}\\,\\cdots\\, b_{-t})_2,  \\\\\n",
    "  e &= \\pm (\\,c_{s-1}\\,c_{s-2}\\,\\cdots\\, c_{0}. \\,0)_2,  \\\\\n",
    "  c_i, m_i &\\in \\{0,1 \\},\n",
    " \\end{align*}$$\n",
    "\n",
    "\n",
    "\n",
    " * What are the peculiarities of the mantissa and  exponent scheme?\n",
    " * How many bits does it take to store this numebr?\n",
    " * We assume $b_{-1} = 1$ and call it *normalized*.  \n",
    " Why? \n",
    " (hint: multiplication by 2 is a shift)\n",
    " * How we reprenset 0 in this form ? Any other special cases  missing  ?\n",
    " * Can we represent every real number in this form? \n",
    " * Underflow and overflow \n",
    "\n"
   ]
  },
  {
   "cell_type": "code",
   "execution_count": null,
   "metadata": {},
   "outputs": [],
   "source": []
  },
  {
   "cell_type": "code",
   "execution_count": null,
   "metadata": {
    "colab": {
     "base_uri": "https://localhost:8080/",
     "height": 50
    },
    "colab_type": "code",
    "id": "rt_v5fhjrTQV",
    "outputId": "683c1ed5-a138-40de-96f1-57a83776a06b"
   },
   "outputs": [],
   "source": [
    "from numpy import  binary_repr\n",
    "def my_int2bin(a, width= 8):\n",
    "    string = binary_repr(a, width)\n",
    "    return string\n",
    "\n",
    "# powers is just shifts in bin\n",
    "print(my_int2bin(5))\n",
    "print(my_int2bin(5*2))"
   ]
  },
  {
   "cell_type": "code",
   "execution_count": null,
   "metadata": {
    "colab": {
     "base_uri": "https://localhost:8080/",
     "height": 104
    },
    "colab_type": "code",
    "id": "3eq807w-Wg18",
    "outputId": "ddba2211-1ff8-484e-ba09-098d40bed752"
   },
   "outputs": [],
   "source": [
    "a = int(2**16 -1 )\n",
    "print(my_int2bin(a, 8))\n",
    "print(my_int2bin(a +1 , 8))"
   ]
  },
  {
   "cell_type": "code",
   "execution_count": null,
   "metadata": {},
   "outputs": [],
   "source": [
    "np.finfo(float).min "
   ]
  },
  {
   "cell_type": "code",
   "execution_count": null,
   "metadata": {},
   "outputs": [],
   "source": [
    "np.finfo(float).tiny"
   ]
  },
  {
   "cell_type": "code",
   "execution_count": null,
   "metadata": {},
   "outputs": [],
   "source": [
    "np.finfo(float).nmant,np.finfo(float).nexp"
   ]
  },
  {
   "cell_type": "markdown",
   "metadata": {
    "colab_type": "text",
    "id": "-TVm8ecZt5es"
   },
   "source": [
    "What are the largest and smalles positive numbers that can be  represented  in this form? \n",
    "* $\\min |x^\\star| = 2^{- 2^s} $\n",
    "* $ max |x^\\star| =  (1- 2^{-t}) \\cdot 2^{2^s -1} $"
   ]
  },
  {
   "cell_type": "markdown",
   "metadata": {
    "colab_type": "text",
    "id": "YNgczWSozqUM"
   },
   "source": [
    "How does the spread of these  numbers look like? \n",
    "\n",
    " ![https://upload.wikimedia.org/wikipedia/commons/thumb/6/69/Denormalized_numbers_on_a_line.svg/1000px-Denormalized_numbers_on_a_line.svg.png](https://upload.wikimedia.org/wikipedia/commons/thumb/6/69/Denormalized_numbers_on_a_line.svg/1000px-Denormalized_numbers_on_a_line.svg.png)\n",
    "[licensed under CC BY-SA 3.0 by Blacklemon67]\n",
    "\n",
    "Actual standards in use: Float (single precision), double(precision), etc. (Refer to [IEEE 754](https://en.wikipedia.org/wiki/IEEE_754#Basic_and_interchange_formats)) for examples.\n",
    "\n",
    "\n"
   ]
  },
  {
   "cell_type": "code",
   "execution_count": null,
   "metadata": {
    "colab": {},
    "colab_type": "code",
    "id": "FgwOE_CA0dI2"
   },
   "outputs": [],
   "source": []
  },
  {
   "cell_type": "markdown",
   "metadata": {
    "colab_type": "text",
    "id": "GNnR7zt8CV1H"
   },
   "source": [
    "\n",
    "\n",
    "---\n",
    "\n",
    "\n",
    "## The error in machine representation"
   ]
  },
  {
   "cell_type": "markdown",
   "metadata": {
    "colab": {},
    "colab_type": "code",
    "id": "jyzpozgTcI1Z"
   },
   "source": [
    "How much error are we making when usingmachine representation? \n",
    "\n",
    "### Chopping\n",
    "\n",
    " `0.001 011` 1 $\\to$ `0.001 011`\n",
    "\n",
    "\\begin{align*}\n",
    " x &= 2^e \\sum_{k=1}^{\\infty} b_{-k} 2^{-k}  \\\\\n",
    "  x^\\star &=   \\text{chop}(x) = 2^e \\sum_{k=1}^{t} b_{-k} 2^{-k}\\\\\n",
    "  |x-x^\\star| & = 2^e \\left \\vert \\sum_{k=t+1}^{\\infty} b_{-k} 2^{-k} \\right \\vert \\leq  2^e\\left \\vert \\sum_{k=t+1}^{\\infty} 2^{-k} \\right \\vert = 2^{-t} \\cdot 2^e, \\\\\n",
    "  \\frac{|x-x^\\star|}{|x|} & = \\frac{2^{-t} \\cdot 2^e}{\\left \\vert \\sum_{k=1}^{\\infty} b_{-k} 2^{-k} \\right \\vert 2^e} = 2\\cdot 2^{-t}.\n",
    "\\end{align*}\n",
    "\n",
    "\n",
    "### Rounding\n",
    "\n",
    " `0.001 011` 1 $\\to$ `0.001 100`\n",
    " \n",
    " `0.001 011` 0 $\\to$ `0.001 011`\n",
    "\n",
    "\\begin{align*}\n",
    " x &= 2^e \\sum_{k=1}^{\\infty} b_{-k} 2^{-k},\\\\\n",
    "  x^\\star &=\\text{round}(x) = \\text{chop}(x + 2^{-t-1} \\cdot 2^e) = 2^e \\sum_{k=1}^{t} b^\\star_{-k} 2^{-k}\\\\\n",
    "  |x-x^\\star| & \n",
    "  \\leq  \\left \\vert \\frac{1}{2} \\cdot 2^{-t} \\cdot 2^e \\right \\vert, \\\\\n",
    "  \\frac{|x-x^\\star|}{|x|} & \\leq  \\frac{|\\frac{1}{2} \\cdot 2^{-t}\\cdot 2^e|}{|\\frac{1}{2}\\cdot 2^e|} \\leq 2^{-t}.\n",
    "\\end{align*}\n",
    "\n",
    "\n",
    "### Machine precision\n",
    "\n",
    " $ M_\\epsilon:= 2^{-t}$\n",
    "\n",
    "$ x^\\star = \\text{round}(x) = x(1+\\varepsilon), \\quad  \\varepsilon \\leq|M_\\epsilon|, \\quad x^\\star\\in$ `float` $\\quad x\\in \\mathbb{R}. $ "
   ]
  },
  {
   "cell_type": "markdown",
   "metadata": {},
   "source": []
  },
  {
   "cell_type": "code",
   "execution_count": null,
   "metadata": {},
   "outputs": [],
   "source": [
    " 0.01010 1111\n",
    " \n",
    " 0.01011 0"
   ]
  },
  {
   "cell_type": "code",
   "execution_count": null,
   "metadata": {},
   "outputs": [],
   "source": [
    "import numpy\n",
    "numpy.finfo(float).eps\n"
   ]
  },
  {
   "cell_type": "code",
   "execution_count": null,
   "metadata": {},
   "outputs": [],
   "source": [
    "numpy.power(2, -52.0)"
   ]
  },
  {
   "cell_type": "markdown",
   "metadata": {},
   "source": [
    "## Error propagation in simple arithmetic operations\n",
    "\n",
    "Now that we have error bounds for the way numbers are stored in a computer let's investigate how these errors interact when performing mathematical operations.\n",
    "\n",
    "* Multiplication \n",
    "\n",
    "$$\n",
    "\\begin{align*}\n",
    "x^\\star &= x(1+\\varepsilon_x), \\\\\n",
    "y^\\star &= y(1+\\varepsilon_y), \\\\\n",
    "x^\\star \\cdot y^\\star & \\overset{?}{=}  x \\cdot y (1 +\\varepsilon_T )  \\\\[10pt]\n",
    " & = x \\cdot y (1 + \\varepsilon_x + \\varepsilon_y +  \\varepsilon_x \\cdot \\varepsilon_y) \\\\\n",
    " & \\approx x \\cdot y (1 + \\varepsilon_x + \\varepsilon_y ), \\\\\n",
    "  \\Rightarrow   \\varepsilon_T &=   \\varepsilon_x + \\varepsilon_y, \\\\\n",
    "  | \\varepsilon_T| &\\leq  |\\varepsilon_x| + |\\varepsilon_y| \\leq 2 M_\\epsilon.\n",
    "\\end{align*}\n",
    "$$\n",
    "\n",
    "\n",
    "* Division \n",
    "\n",
    "$$\n",
    "\\begin{align*}\n",
    "\\frac{x^\\star}{y^\\star} & \\overset{?}{=}  \\frac{x}{y} (1 +\\varepsilon_T )  \\\\[10pt]\n",
    " & = \\frac{x}{y} \\frac{(1 + \\varepsilon_x )}{(1 + \\varepsilon_y )} \\qquad \\qquad \\text{Lemma:}  \\frac{1}{1+\\varepsilon_y} = 1 - \\varepsilon_y +\\varepsilon_y^2 - \\cdots \\\\\n",
    "  & \\approx \\frac{x}{y}  (1 + \\varepsilon_x)(1 - \\varepsilon_y ), \\\\\n",
    " & \\approx  \\frac{x}{y}  (1 + \\varepsilon_x - \\varepsilon_y ), \\\\\n",
    "  \\Rightarrow   \\varepsilon_T &=   \\varepsilon_x - \\varepsilon_y, \\\\\n",
    "    | \\varepsilon_T| &\\leq 2 M_\\epsilon.\n",
    "\\end{align*}\n",
    "$$\n",
    "\n",
    "* Addition\n",
    "\n",
    "$$\n",
    "\\begin{align*}\n",
    "x^\\star + y^\\star & \\overset{?}{=} (x + y ) \\cdot (1+ \\varepsilon_T)  \\\\[10pt]\n",
    "& =   x + y  + x\\cdot \\varepsilon_x + y\\cdot \\varepsilon_x \\\\\n",
    "& =  (x + y) \\cdot ( 1 + \\frac{x}{x+y} \\cdot  \\varepsilon_x  + \\frac{y}{x+y}\\cdot \\varepsilon_y ),\\\\\n",
    "  \\Rightarrow   \\varepsilon_T &=    \\frac{x}{x+y} \\cdot  \\varepsilon_x  + \\frac{y}{x+y}\\cdot \\varepsilon_y.\n",
    "\\end{align*}\n",
    "$$"
   ]
  },
  {
   "cell_type": "markdown",
   "metadata": {},
   "source": [
    "* Are these operations benign? \n",
    "* What can go wrong in `Cancellation error`"
   ]
  },
  {
   "cell_type": "code",
   "execution_count": 109,
   "metadata": {},
   "outputs": [],
   "source": [
    "a=1000000.0001\n",
    "b=1000000.0000"
   ]
  },
  {
   "cell_type": "code",
   "execution_count": 120,
   "metadata": {},
   "outputs": [
    {
     "name": "stdout",
     "output_type": "stream",
     "text": [
      "0.0000000000000000\n"
     ]
    }
   ],
   "source": [
    "print(\"%2.16f\" %(np.abs(((a**2 + b**2) - 2*a*b ))))"
   ]
  },
  {
   "cell_type": "markdown",
   "metadata": {},
   "source": [
    "### Condition of a problem\n",
    "\n",
    "We would like to have a measure of how _unruly_ a numerical problem is. Let's assume a problem maps input $x$ to output $y$ using a mapping $f$\n",
    "$$ y = f(x), \\quad x,y \\in \\mathbb{R} $$\n",
    "\n",
    "#### Perturbed problems\n",
    "If the input is slightly poerturbed:\n",
    "$$\n",
    "\\begin{align*}\n",
    "y^\\star &= f(x^\\star) = f(x + \\Delta x)   = y +  \\Delta y.\n",
    "\\end{align*}\n",
    "$$\n",
    "We would  like to extablish a relation between the reltaive errors in the input and outout:\n",
    "$$\n",
    "\\frac{\\Delta y}{y}  \\approx \\frac{x f'(x)}{f(x)} \\frac{\\Delta x}{x} .\n",
    "$$\n",
    "\n",
    "Define __condition number__ as :\n",
    "\n",
    "$$\\text{cond}_f := \\left \\vert \\frac{x f'(x)}{f(x)}  \\right \\vert. $$\n",
    "\n",
    "\n",
    "#### Example: \n",
    "\n",
    "$$\n",
    "\\begin{align*}\n",
    "f(x) & = \\frac{x+1}{x-1}, \\qquad f'(x) = \\frac{-2}{(x-1)^2}, \\\\[10pt]\n",
    "\\frac{\\Delta y}{y}  & \\approx \\frac{-2 x}{(x-1) (x+1)} \\frac{\\Delta x}{x} \n",
    "\\end{align*}\n",
    "$$\n",
    "\n"
   ]
  },
  {
   "cell_type": "markdown",
   "metadata": {},
   "source": [
    "What if x belongs to a floating point number system?\n",
    "\n",
    "$$ \\frac{\\Delta y}{y}   \\approx \\frac{-2 x}{(x-1) (x+1)} M_\\epsilon  $$"
   ]
  },
  {
   "cell_type": "code",
   "execution_count": 121,
   "metadata": {},
   "outputs": [],
   "source": [
    "def  rel_err(x):\n",
    "    return  np.abs((-2.0*x)/((x-1)*(x+1))*np.finfo(float).eps)"
   ]
  },
  {
   "cell_type": "code",
   "execution_count": 122,
   "metadata": {},
   "outputs": [
    {
     "data": {
      "text/plain": [
       "[<matplotlib.lines.Line2D at 0x7f8c034b94c0>]"
      ]
     },
     "execution_count": 122,
     "metadata": {},
     "output_type": "execute_result"
    },
    {
     "data": {
      "image/png": "[encoded data removed]",
      "text/plain": [
       "<Figure size 432x288 with 1 Axes>"
      ]
     },
     "metadata": {
      "needs_background": "light"
     },
     "output_type": "display_data"
    }
   ],
   "source": [
    "%matplotlib inline\n",
    "x = np.linspace(-2,2,1000)\n",
    "plt.plot(x, rel_err(x))"
   ]
  },
  {
   "cell_type": "code",
   "execution_count": 129,
   "metadata": {},
   "outputs": [
    {
     "data": {
      "text/plain": [
       "2.2204458655409004e-05"
      ]
     },
     "execution_count": 129,
     "metadata": {},
     "output_type": "execute_result"
    }
   ],
   "source": [
    "rel_err(1.00000000001)"
   ]
  },
  {
   "cell_type": "markdown",
   "metadata": {},
   "source": [
    "* How bad is this? \n",
    "* What can be done ?"
   ]
  },
  {
   "cell_type": "code",
   "execution_count": null,
   "metadata": {},
   "outputs": [],
   "source": [
    ".01323453455643\n",
    ".00005"
   ]
  }
 ],
 "metadata": {
  "colab": {
   "name": "Machine-Arethmetic.ipynb",
   "provenance": []
  },
  "kernelspec": {
   "display_name": "Python 3",
   "language": "python",
   "name": "python3"
  },
  "language_info": {
   "codemirror_mode": {
    "name": "ipython",
    "version": 3
   },
   "file_extension": ".py",
   "mimetype": "text/x-python",
   "name": "python",
   "nbconvert_exporter": "python",
   "pygments_lexer": "ipython3",
   "version": "3.8.3"
  }
 },
 "nbformat": 4,
 "nbformat_minor": 4
}
