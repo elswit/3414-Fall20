{
 "cells": [
  {
   "cell_type": "markdown",
   "metadata": {
    "slideshow": {
     "slide_type": "skip"
    }
   },
   "source": [
    "<table>\n",
    " <tr align=left><td><img align=left src=\"https://mirrors.creativecommons.org/presskit/buttons/80x15/png/by.png\">\n",
    " <td>Text provided under a Creative Commons Attribution license, CC-BY. All code is made available under the FSF-approved MIT license. (c) Kyle T. Mandli. Adapted for CS/MATH 3414 by Arash Sarshar. Shared under the same licenses.</td>\n",
    " <td> </td>\n",
    "</table>"
   ]
  },
  {
   "cell_type": "code",
   "execution_count": null,
   "metadata": {
    "init_cell": true,
    "slideshow": {
     "slide_type": "skip"
    }
   },
   "outputs": [],
   "source": [
    "%matplotlib inline\n",
    "%precision 3\n",
    "import numpy\n",
    "import matplotlib.pyplot as plt"
   ]
  },
  {
   "cell_type": "markdown",
   "metadata": {
    "slideshow": {
     "slide_type": "slide"
    }
   },
   "source": [
    "# Linear systems of equations\n",
    "\n",
    "Let us start by considering a polynomial $\\mathcal{P}_n(x) = p_0 + p_1 x + p_2 x^2 + \\cdots + p_{n-1} x^{n-1}$ and requiring the value of the polynomial to match our desired values at a number of points $(x_i, y_i), ~~ i = 0,1, 2, \\ldots, m-1$ . \n",
    "\n",
    "\n",
    "$$\n",
    "\\begin{align*}\n",
    "\\mathcal{P}_n(x_0) &= p_0 + p_1 x_0 + p_2 {x_0}^2 + \\cdots + p_{n-1} {x_0}^{n-1}, \\\\[10pt]\n",
    "\\mathcal{P}_n(x_1) &= p_0 + p_1 x_2 + p_2 {x_1}^2 + \\cdots + p_{n-1} {x_1}^{n-1}, \\\\[10pt]\n",
    "\\vdots \\qquad & \\qquad  \\qquad \\qquad  \\vdots  \\qquad  \\qquad \\qquad  \\vdots\\\\[10pt]\n",
    "\\mathcal{P}_n(x_{m-1}) &= p_0 + p_1 x_{m-1} + p_2 {x_{m-1}}^2 + \\cdots + p_{n-1} {x_{m-1}}^{n-1}. \\\\[10pt]\n",
    "\\end{align*}\n",
    "$$\n",
    "\n",
    "\n",
    "Writing the equations in matrix form gives us  the linear system.\n",
    "\n",
    "$$A \\vec{p} = \\vec{y}, \\quad \\quad\n",
    "A = \\begin{bmatrix}\n",
    "    1 & x_1 & x_1^2 & \\cdots & x_1^{n-1} \\\\\n",
    "    1 & x_2 & x_2^2 & \\cdots & x_2^{n-1} \\\\\n",
    "    \\vdots & \\vdots & \\vdots & & \\vdots \\\\\n",
    "    1 & x_m & x_m^2 & \\cdots & x_m^{n-1}\n",
    "\\end{bmatrix}, \\quad \\quad \\vec p = \\begin{bmatrix}\n",
    "p_0 \\\\ p_1 \\\\ \\vdots \\\\ p_{n-1}\n",
    "\\end{bmatrix},\n",
    "\\quad \\quad \\vec y = \\begin{bmatrix}\n",
    "y_1 \\\\ y_2 \\\\ \\vdots \\\\ y_m\n",
    "\\end{bmatrix}.\n",
    "$$\n"
   ]
  },
  {
   "cell_type": "markdown",
   "metadata": {},
   "source": [
    "\n",
    "We have $m$ equations for $n$ unknowns, therefore, $A$ is an $m \\times n$ matrix, denoted as being in $\\mathbb{R}^{m\\times n}$, and $\\vec{p}$ and $\\vec{y}$ are column vectors with $n$ and $m$   entries respectibely."
   ]
  },
  {
   "cell_type": "markdown",
   "metadata": {
    "slideshow": {
     "slide_type": "subslide"
    }
   },
   "source": [
    "### Geometric  interpretation of linear systems"
   ]
  },
  {
   "cell_type": "markdown",
   "metadata": {
    "slideshow": {
     "slide_type": "subslide"
    }
   },
   "source": [
    "### Algebraic interpretation of linear systems\n",
    "\n",
    "One of the most basic operations we can perform with matrices is to multiply them be a vector.  This matrix-vector product $A \\vec{x} = \\vec{b}$ is defined as\n",
    "$$\n",
    "    b_i = \\sum^n_{j=1} a_{ij} x_j \\quad \\text{where}\\quad i = 1, \\ldots, m\n",
    "$$"
   ]
  },
  {
   "cell_type": "markdown",
   "metadata": {
    "slideshow": {
     "slide_type": "subslide"
    }
   },
   "source": [
    "Writing the matrix-vector product this way we see that one interpretation of this product is that each column of $A$ is weighted by the value $x_j$, or in other words $\\vec{b}$ is a linear combination of the columns of $A$ where each column's weighting is $x_j$.\n",
    "$$\n",
    "\\begin{align}\n",
    "    \\vec{b} &= A \\vec{x}, \\\\\n",
    "    \\vec{b} &= \n",
    "    \\begin{bmatrix}  &  &  &  \\\\  &  &  &  \\\\ \\vec{a}_1 & \\vec{a}_2 & \\cdots & \\vec{a}_n \\\\  &  &  &   \\\\  &  &  &  \\end{bmatrix}\n",
    "    \\begin{bmatrix} x_1 \\\\ x_2 \\\\ \\vdots \\\\ x_n \\end{bmatrix}, \\\\\n",
    "    \\vec{b} &= x_1 \\vec{a}_1 + x_2 \\vec{a}_2 + \\cdots + x_n \\vec{a}_n.\n",
    "\\end{align}\n",
    "$$\n",
    "\n",
    "This view will be useful later when we are trying to interpret various types of matrices."
   ]
  },
  {
   "cell_type": "markdown",
   "metadata": {
    "slideshow": {
     "slide_type": "subslide"
    }
   },
   "source": [
    "One important property of the matrix-vector product is that is a **linear** operation, also known as a **linear operator**.  This means that the for any $\\vec{x}, \\vec{y} \\in \\mathbb{C}^n$ and any $c \\in \\mathbb{C}$ we know that\n",
    "\n",
    "1. $A (\\vec{x} + \\vec{y}) = A\\vec{x} + A\\vec{y}$\n",
    "1. $A\\cdot (c\\vec{x}) = c A \\vec{x}$"
   ]
  },
  {
   "cell_type": "markdown",
   "metadata": {
    "slideshow": {
     "slide_type": "subslide"
    }
   },
   "source": [
    "#### Example:  Numerical matrix-vector multiply\n",
    "\n",
    "Write a matrix-vector multiply function and check it with the appropriate `numpy` routine.  Also verify the linearity of the matrix-vector multiply."
   ]
  },
  {
   "cell_type": "code",
   "execution_count": null,
   "metadata": {
    "slideshow": {
     "slide_type": "skip"
    }
   },
   "outputs": [],
   "source": [
    "#A x = b\n",
    "#(m x n) (n x 1) = (m x 1)\n",
    "def matrix_vector_product(A, x):\n",
    "    m, n = A.shape\n",
    "    b = numpy.zeros(m)\n",
    "    for i in range(m):\n",
    "        for j in range(n):\n",
    "            b[i] += A[i, j] * x[j]\n",
    "    return b\n",
    "\n",
    "m = 4\n",
    "n = 3\n",
    "A = numpy.random.uniform(size=(m,n))\n",
    "x = numpy.random.uniform(size=(n))\n",
    "y = numpy.random.uniform(size=(n))\n",
    "c = numpy.random.uniform()\n",
    "b = matrix_vector_product(A, x)\n",
    "print(numpy.allclose(b, numpy.dot(A, x)))\n",
    "print(numpy.allclose(matrix_vector_product(A, (x + y)), matrix_vector_product(A, x) + matrix_vector_product(A, y)))\n",
    "print(numpy.allclose(matrix_vector_product(A, c * x), c*matrix_vector_product(A, x)))"
   ]
  },
  {
   "cell_type": "markdown",
   "metadata": {
    "slideshow": {
     "slide_type": "subslide"
    }
   },
   "source": [
    "### Matrix-Matrix Multiplication\n",
    "\n",
    "The matrix product with another matrix $A C = B$ is defined as\n",
    "$$\n",
    "    b_{ij} = \\sum^m_{k=1} a_{ik} c_{kj}.\n",
    "$$\n",
    "Again, a useful interpretation of this operation is that the product result $B$ is the a linear combination of the columns of $A$.\n",
    "\n",
    "What are the dimensions of $A$ and $C$ so that the multiplication works?"
   ]
  },
  {
   "cell_type": "markdown",
   "metadata": {
    "slideshow": {
     "slide_type": "subslide"
    }
   },
   "source": [
    "#### Example:  Outer Product\n",
    "\n",
    "The product of two vectors $\\vec{u} \\in \\mathbb{C}^m$ and $\\vec{v} \\in \\mathbb{C}^n$ is a $m \\times n$ matrix where the columns are the vector $u$ multiplied by the corresponding value of $v$:\n",
    "$$\n",
    "\\begin{align}\n",
    "    \\vec{u} \\vec{v}^T &= \n",
    "    \\begin{bmatrix}  u_1 \\\\ u_2 \\\\ \\vdots \\\\ u_n  \\end{bmatrix}\n",
    "    \\begin{bmatrix} v_1 & v_2 & \\cdots & v_n \\end{bmatrix}, \\\\\n",
    "    & = \\begin{bmatrix} v_1u_1 & \\cdots & v_n u_1 \\\\ \\vdots &  & \\vdots \\\\ v_1 u_m & \\cdots & v_n u_m \\end{bmatrix}.\n",
    "\\end{align}\n",
    "$$\n",
    "\n",
    "It is useful to think of these as operations on the column vectors, and an equivalent way to express this relationship is \n",
    "$$\n",
    "\\begin{align}\n",
    "    \\vec{u} \\vec{v}^T &=\n",
    "    \\begin{bmatrix}  \\\\ \\vec{u} \\\\ \\\\  \\end{bmatrix}\n",
    "    \\begin{bmatrix} v_1 & v_2 & \\cdots & v_n \\end{bmatrix}, \\\\\n",
    "    &=\n",
    "    \\begin{bmatrix}  &  &  &  \\\\  &  &  &  \\\\ \\vec{u}v_1  & \\vec{u} v_2  & \\cdots & \\vec{u} v_n  \\\\  &  &  & \\\\  &  &  &  \\end{bmatrix}, \\\\\n",
    "    & = \\begin{bmatrix} v_1u_1 & \\cdots & v_n u_1 \\\\ \\vdots &  & \\vdots \\\\ v_1 u_m & \\cdots & v_n u_m \\end{bmatrix}.\n",
    "\\end{align}\n",
    "$$\n",
    "*"
   ]
  },
  {
   "cell_type": "markdown",
   "metadata": {
    "slideshow": {
     "slide_type": "subslide"
    }
   },
   "source": [
    "#### Example: Write Matrix-Matrix Multiplication\n",
    "\n",
    "Write a function that computes matrix-matrix multiplication and demonstrate the following properties:\n",
    "1. $A (B + C) = AB + AC$ (for square matrices))\n",
    "1. $A (cB) = c AB$ where $c \\in \\mathbb{C}$\n",
    "1. $AB \\neq BA$ in general"
   ]
  },
  {
   "cell_type": "code",
   "execution_count": null,
   "metadata": {
    "slideshow": {
     "slide_type": "skip"
    }
   },
   "outputs": [],
   "source": [
    "def matrix_matrix_product(A, B):\n",
    "    C = numpy.zeros((A.shape[0], B.shape[1]))\n",
    "    for i in range(A.shape[0]):\n",
    "        for j in range(B.shape[1]):\n",
    "            for k in range(A.shape[1]):\n",
    "                C[i, j] += A[i, k] * B[k, j]\n",
    "    return C\n",
    "\n",
    "\n",
    "m = 4\n",
    "n = 4\n",
    "p = 4\n",
    "A = numpy.random.uniform(size=(m, n))\n",
    "B = numpy.random.uniform(size=(n, p))\n",
    "C = numpy.random.uniform(size=(m, p))\n",
    "c = numpy.random.uniform()\n",
    "print(numpy.allclose(matrix_matrix_product(A, B), numpy.dot(A, B)))\n",
    "print(numpy.allclose(matrix_matrix_product(A, (B + C)), matrix_matrix_product(A, B) + matrix_matrix_product(A, C)))\n",
    "print(numpy.allclose(matrix_matrix_product(A, c * B), c*matrix_matrix_product(A, B)))\n",
    "print(numpy.allclose(matrix_matrix_product(A, B), matrix_matrix_product(B, A)))"
   ]
  },
  {
   "cell_type": "markdown",
   "metadata": {
    "slideshow": {
     "slide_type": "subslide"
    }
   },
   "source": [
    "#### NumPy Products\n",
    "\n",
    "NumPy and SciPy contain routines that ware optimized to perform matrix-vector and matrix-matrix multiplication.  Given two `ndarray`s you can take their product by using the `dot` function."
   ]
  },
  {
   "cell_type": "code",
   "execution_count": null,
   "metadata": {
    "slideshow": {
     "slide_type": "skip"
    }
   },
   "outputs": [],
   "source": [
    "n = 10\n",
    "m = 5\n",
    "# Matrix vector with identity\n",
    "A = numpy.identity(n)\n",
    "x = numpy.random.random(n)\n",
    "print(numpy.allclose(x, numpy.dot(A, x)))\n",
    "\n",
    "# Matrix vector product\n",
    "A = numpy.random.random((m, n))\n",
    "print(numpy.dot(A, x))\n",
    "\n",
    "# Matrix matrix product\n",
    "B = numpy.random.random((n, m))\n",
    "print(numpy.dot(A, B))"
   ]
  },
  {
   "cell_type": "markdown",
   "metadata": {
    "slideshow": {
     "slide_type": "slide"
    }
   },
   "source": [
    "### Range and Null-Space\n",
    "\n",
    "#### Range\n",
    "- The **range** of a matrix $A \\in \\mathbb R^{m \\times n}$ (similar to any function), denoted as $\\text{range}(A)$, is the set of vectors that can be expressed as $A x$ for $x \\in \\mathbb R^n$.  \n",
    "- We can also then say that that $\\text{range}(A)$ is the space **spanned** by the columns of $A$.  In other words the columns of $A$ provide a basis for $\\text{range}(A)$, also called the **column space** of the matrix $A$.  \n",
    "\n",
    "#### Null-Space\n",
    "- Similarly the **null-space** of a matrix $A$, denoted $\\text{null}(A)$ is the set of vectors $x$ that satisfy $A x = 0$.\n",
    "- A similar concept is the **rank** of the matrix $A$, denoted as $\\text{rank}(A)$, is the dimension of the column space.  A matrix $A$ is said to have **full-rank** if $\\text{rank}(A) = \\min(m, n)$.  This property also implies that the matrix mapping is **one-to-one**.\n",
    "- A matrix $A$ is said to be **low-rank** if $\\text{rank}(A) < \\min(m, n)$.\n",
    "\n",
    "Another concept that is related to orthogonality is linear-independence.  A set of vectors $\\vec{x} \\in X$ are **linearly independent** if $\\forall \\vec{x} \\in X$ that each $\\vec{x}$ cannot be written as a linear combination of the other vectors in the set $X$.  \n",
    "\n",
    "An equivalent statement is that there does not exist a set of scalars $c_i$ such that\n",
    "\n",
    "$$\n",
    "    \\vec{x}_k = \\sum^n_{i=1, i \\neq k} c_i \\vec{x}_i.\n",
    "$$\n"
   ]
  },
  {
   "cell_type": "code",
   "execution_count": null,
   "metadata": {
    "slideshow": {
     "slide_type": "subslide"
    }
   },
   "outputs": [],
   "source": [
    "import scipy.linalg\n",
    "A = numpy.array([[1,0,3],\n",
    "                 [2,0,6],\n",
    "                 [3,0,9]])\n",
    "\n",
    "print(A)\n",
    "\n",
    "print(numpy.linalg.matrix_rank(A))\n",
    "x1 = numpy.zeros((3,1))\n",
    "numpy.matmul(A,x1)"
   ]
  },
  {
   "cell_type": "code",
   "execution_count": null,
   "metadata": {
    "slideshow": {
     "slide_type": "subslide"
    }
   },
   "outputs": [],
   "source": [
    "x2 = scipy.linalg.null_space(A)\n",
    "print(x2)"
   ]
  },
  {
   "cell_type": "markdown",
   "metadata": {
    "slideshow": {
     "slide_type": "slide"
    }
   },
   "source": [
    "### Inverse\n",
    "\n",
    "A **non-singular** or **invertible** matrix $\\in \\mathbb{R}^{m \\times m}$ is characterized as a matrix with full-rank.  This is related to why we know that the matrix is one-to-one, we can use it to transform a vector $x$ and using the inverse, denoted $A^{-1}$, we can map it back to the original matrix.  The familiar definition of this is\n",
    "\\begin{align*}\n",
    "     A^{-1} A & = \\mathbf{I}, \\\\\n",
    "    A \\vec{x} &= \\vec{b}, \\\\\n",
    "    A^{-1} A \\vec{x} & = A^{-1} \\vec{b}, \\\\\n",
    "    x &=A^{-1} \\vec{b}.\n",
    "\\end{align*}\n",
    "Since $A$ has full rank, its columns form a basis for $\\mathbb{R}^m$ and the vector $\\vec{b}$ must be in the column space of $A$."
   ]
  },
  {
   "cell_type": "markdown",
   "metadata": {
    "slideshow": {
     "slide_type": "subslide"
    }
   },
   "source": [
    "There are a number of important properties of a non-singular matrix A.  Here we list them as the following equivalent statements\n",
    "1. $A$ has an inverse $A^{-1}$\n",
    "1. $\\text{rank}(A) = m$\n",
    "1. $\\text{range}(A) = \\mathbb{R}^m$\n",
    "1. $\\text{null}(A) = {0}$"
   ]
  },
  {
   "cell_type": "markdown",
   "metadata": {
    "slideshow": {
     "slide_type": "subslide"
    }
   },
   "source": [
    "#### Example:  Properties of invertible matrices\n",
    "\n",
    "Show that given an invertible matrix that the rest of the properties hold.  Make sure to search the `numpy` packages for relevant functions."
   ]
  },
  {
   "cell_type": "code",
   "execution_count": null,
   "metadata": {
    "slideshow": {
     "slide_type": "subslide"
    }
   },
   "outputs": [],
   "source": [
    "m = 3\n",
    "for n in range(100):\n",
    "    A = numpy.random.uniform(size=(m, m))\n",
    "    if numpy.linalg.det(A) != 0:\n",
    "        break\n",
    "        \n",
    "print(numpy.dot(numpy.linalg.inv(A), A))\n",
    "print(numpy.linalg.matrix_rank(A))\n",
    "print(\"range\")\n",
    "print(numpy.linalg.solve(A, numpy.zeros(m)))"
   ]
  },
  {
   "cell_type": "markdown",
   "metadata": {
    "slideshow": {
     "slide_type": "subslide"
    }
   },
   "source": []
  },
  {
   "cell_type": "markdown",
   "metadata": {
    "slideshow": {
     "slide_type": "slide"
    }
   },
   "source": [
    "### Vector Norms\n",
    "\n",
    "Norms provide a sense of \"size\" or distance in a space.  In general, a norm is a function, denoted by $||\\cdot||$, that maps $\\mathbb{R}^m \\rightarrow \\mathbb{R}$.  All norms satisfy the properties:\n",
    "\n",
    "1. $||\\vec{x}|| \\geq 0$, and $||\\vec{x}|| = 0$ only if $\\vec{x} = \\vec{0}$\n",
    "1. $||\\vec{x} + \\vec{y}|| \\leq ||\\vec{x}|| + ||\\vec{y}||$ (triangle inequality)\n",
    "1. $||c \\vec{x}|| = |c| ~ ||\\vec{x}||$ where $c \\in \\mathbb{R}$"
   ]
  },
  {
   "cell_type": "markdown",
   "metadata": {
    "slideshow": {
     "slide_type": "subslide"
    }
   },
   "source": [
    "There are a number of relevant norms that we can define:\n",
    "1. $\\ell_1$ norm:\n",
    "$$\n",
    "    ||\\vec{x}||_1 = \\sum^m_{i=1} |x_i|,\n",
    "$$\n",
    "1. $\\ell_2$ norm:\n",
    "$$\n",
    "    ||\\vec{x}||_2 = \\left( \\sum^m_{i=1} |x_i|^2 \\right)^{1/2},\n",
    "$$\n",
    "1. $\\ell_p$ norm:\n",
    "$$\n",
    "    ||\\vec{x}||_p = \\left( \\sum^m_{i=1} |x_i|^p \\right)^{1/p}, \\quad \\quad 1 \\leq p < \\infty,\n",
    "$$\n",
    "1. $\\ell_\\infty$ norm:\n",
    "$$\n",
    "    ||\\vec{x}||_\\infty = \\max_{1\\leq i \\leq m} |x_i|,\n",
    "$$\n",
    "1. weighted $\\ell_p$ norm:\n",
    "$$\n",
    "    ||\\vec{x}||_{w,p} = \\left( \\sum^m_{i=1} |w_i x_i|^p \\right)^{1/p}, \\quad \\quad 1 \\leq p < \\infty,\n",
    "$$\n",
    "\n",
    "These are also related to other norms denoted by capital letters ($L_2$ for instance).  In this case we use the lower-case notation to denote finite or discrete versions of the infinite dimensional counterparts."
   ]
  },
  {
   "cell_type": "markdown",
   "metadata": {
    "slideshow": {
     "slide_type": "subslide"
    }
   },
   "source": [
    "#### Example:  Using norms to measure error\n",
    "\n",
    "Compute the norms given some error vector  $ \\vec e =  x - x^\\star $:"
   ]
  },
  {
   "cell_type": "code",
   "execution_count": null,
   "metadata": {
    "slideshow": {
     "slide_type": "subslide"
    }
   },
   "outputs": [],
   "source": [
    "\n",
    "m = 100\n",
    "p = 4\n",
    "x = numpy.random.uniform(size=m)\n",
    "err = x.copy()\n",
    "err[int(m/2)] =2*numpy.max(numpy.abs(x))\n",
    "\n",
    "def make_plot(x):\n",
    "    ell_1 = 0.0\n",
    "    for i in range(m):\n",
    "        ell_1 += numpy.abs(x[i])\n",
    "\n",
    "    ell_2 = 0.0\n",
    "    for i in range(m):\n",
    "        ell_2 += numpy.abs(x[i])**2\n",
    "    ell_2 = numpy.sqrt(ell_2)\n",
    "\n",
    "    ell_p = 0.0\n",
    "    for i in range(m):\n",
    "        ell_p += numpy.abs(x[i])**p\n",
    "    ell_p = (ell_2)**(1.0 / p)\n",
    "\n",
    "    ell_infty = numpy.max(numpy.abs(x))\n",
    "\n",
    "    plt.plot(x,'ro', markersize=3)\n",
    "    plt.plot(ell_1/m*numpy.ones_like(x))\n",
    "    plt.plot(ell_2*numpy.ones_like(x))\n",
    "    plt.plot(ell_infty*numpy.ones_like(x))\n",
    "    plt.legend(['error', '$l_1 norm$', '$l_2 norm$', '$l_\\infty norm$'])\n",
    "    axes = plt.gca()\n",
    "    axes.set_ylim([0,10])\n",
    "    \n",
    "plt.figure(figsize=(20,5))\n",
    "plt.subplot(121)\n",
    "make_plot(err)\n",
    "\n",
    "err = x.copy()\n",
    "err[int(m/2)] = 8*numpy.max(numpy.abs(x))\n",
    "plt.subplot(122)\n",
    "make_plot(err)\n",
    "\n"
   ]
  },
  {
   "cell_type": "markdown",
   "metadata": {
    "slideshow": {
     "slide_type": "slide"
    }
   },
   "source": [
    "### Matrix Norms\n",
    "\n",
    "The most direct way to consider a matrix norm is those induced by a vector-norm.  Given a vector norm, we can define a matrix norm as the smallest number $C$ that satisfies the inequality\n",
    "$$\n",
    "    ||A \\vec{x}||_{m} \\leq C ||\\vec{x}||_{n}.\n",
    "$$\n",
    "or as the supremum of the ratios so that\n",
    "$$\n",
    "    C = \\sup_{\\vec{x}\\in\\mathbb{R}^n ~ \\vec{x}\\neq\\vec{0}} \\frac{||A \\vec{x}||_{m}}{||\\vec{x}||_n}.\n",
    "$$"
   ]
  },
  {
   "cell_type": "markdown",
   "metadata": {
    "slideshow": {
     "slide_type": "subslide"
    }
   },
   "source": [
    "Noting that $||A \\vec{x}||$ lives in the column space and $||\\vec{x}||$ on the domain we can think of the matrix norm as the \"size\" of the matrix that maps the domain to the range.  Also noting that if $||\\vec{x}||_n = 1$ we also satisfy the condition we can write the induced matrix norm as\n",
    "$$\n",
    "    ||A||_{(q,r)} = \\sup_{\\vec{x} \\in \\mathbb{R}^n, ~ ||\\vec{x}||_{q} = 1} ||A \\vec{x}||_{r},\\\\[10pt]\n",
    "     ||A||_{p} = \\sup_{\\vec{x} \\in \\mathbb{R}^n, ~ ||\\vec{x}||_{p} = 1} ||A \\vec{x}||_{p}.\n",
    "$$"
   ]
  },
  {
   "cell_type": "code",
   "execution_count": null,
   "metadata": {
    "slideshow": {
     "slide_type": "subslide"
    }
   },
   "outputs": [],
   "source": [
    "A = numpy.array([[1, 0], [0, 1]])\n",
    "print(A,'\\n')\n",
    "print(numpy.linalg.norm(A, ord=1))\n",
    "print(numpy.linalg.norm(A, ord=2))\n",
    "print(numpy.linalg.norm(A, ord=numpy.infty))"
   ]
  },
  {
   "cell_type": "markdown",
   "metadata": {
    "slideshow": {
     "slide_type": "subslide"
    }
   },
   "source": [
    "#### Example: General  Norms of a Matrix\n",
    "\n",
    "Compute a bound on the induced norm of the $m \\times n$ dimensional matrix $A$ using $\\ell_1$ and $\\ell_2$"
   ]
  },
  {
   "cell_type": "markdown",
   "metadata": {
    "slideshow": {
     "slide_type": "subslide"
    }
   },
   "source": [
    "One of the most useful ways to think about matrix norms is as a transformation of a unit-ball to an ellipse.  Depending on the norm in question, the norm will be some combination of the resulting ellipse.  For the above cases we have some nice relations based on these ideas.\n",
    "\n",
    "1. $||A \\vec{x}||_1 = || \\sum^n_{j=1} x_j \\vec{a}_j ||_1 \\leq \\sum^n_{j=1} |x_j| ||\\vec{a}_j||_1 \\leq \\max_{1\\leq j\\leq n} ||\\vec{a}_j||_1$\n",
    "1. $||A \\vec{x}||_\\infty = || \\sum^n_{j=1} x_j \\vec{a_j} ||_\\infty \\leq \\sum^n_{j=1} |x_j| ||\\vec{a}_j||_\\infty \\leq \\max_{1 \\leq i \\leq m} ||a^*_i||_1$"
   ]
  },
  {
   "cell_type": "code",
   "execution_count": null,
   "metadata": {
    "slideshow": {
     "slide_type": "skip"
    }
   },
   "outputs": [],
   "source": [
    "# Note: that this code is a bit fragile to angles that go beyond pi\n",
    "# due to the use of arccos.\n",
    "\n",
    "import matplotlib.patches as patches\n",
    "\n",
    "A = numpy.array([[1, 2], [0, 2]])\n",
    "\n",
    "def draw_unit_vectors(axes, A, head_width=0.1):\n",
    "    head_length = 1.5 * head_width\n",
    "    image_e = numpy.empty(A.shape)\n",
    "    angle = numpy.empty(A.shape[0])\n",
    "    image_e[:, 0] = numpy.dot(A, numpy.array((1.0, 0.0)))\n",
    "    image_e[:, 1] = numpy.dot(A, numpy.array((0.0, 1.0)))\n",
    "    for i in range(A.shape[0]):\n",
    "        angle[i] = numpy.arccos(image_e[0, i] / numpy.linalg.norm(image_e[:, i], ord=2))\n",
    "        axes.arrow(0.0, 0.0, image_e[0, i] - head_length * numpy.cos(angle[i]), \n",
    "                             image_e[1, i] - head_length * numpy.sin(angle[i]), \n",
    "                             head_width=head_width, color='b', alpha=0.5)\n",
    "    \n",
    "head_width = 0.2\n",
    "head_length = 1.5 * head_width\n",
    "# ============\n",
    "# 1-norm\n",
    "# Unit-ball\n",
    "fig = plt.figure()\n",
    "fig.set_figwidth(fig.get_figwidth() * 2)\n",
    "fig.suptitle(\"1-Norm\")\n",
    "\n",
    "axes = fig.add_subplot(1, 2, 1, aspect='equal')\n",
    "axes.plot((1.0, 0.0, -1.0, 0.0, 1.0), (0.0, 1.0, 0.0, -1.0, 0.0), 'r')\n",
    "draw_unit_vectors(axes, numpy.eye(2))\n",
    "axes.set_title(\"||x||\")\n",
    "axes.set_xlim((-1.1, 1.1))\n",
    "axes.set_ylim((-1.1, 1.1))\n",
    "axes.grid(True)\n",
    "\n",
    "# Image\n",
    "axes = fig.add_subplot(1, 2, 2, aspect='equal')\n",
    "axes.plot((1.0, 2.0, -1.0, -2.0, 1.0), (0.0, 2.0, 0.0, -2.0, 0.0), 'r')\n",
    "draw_unit_vectors(axes, A, head_width=0.2)\n",
    "\n",
    "axes.set_title(\"||Ax||\")\n",
    "axes.grid(True)\n",
    "\n",
    "plt.show()"
   ]
  },
  {
   "cell_type": "code",
   "execution_count": null,
   "metadata": {
    "slideshow": {
     "slide_type": "skip"
    }
   },
   "outputs": [],
   "source": [
    "# ============\n",
    "# 2-norm\n",
    "\n",
    "# Unit-ball\n",
    "fig = plt.figure()\n",
    "fig.suptitle(\"2-Norm\")\n",
    "fig.set_figwidth(fig.get_figwidth() * 2)\n",
    "\n",
    "axes = fig.add_subplot(1, 2, 1, aspect='equal')\n",
    "axes.add_artist(plt.Circle((0.0, 0.0), 1.0, edgecolor='r', facecolor='none'))\n",
    "draw_unit_vectors(axes, numpy.eye(2))\n",
    "axes.set_title(\"||x||\")\n",
    "axes.set_xlim((-1.1, 1.1))\n",
    "axes.set_ylim((-1.1, 1.1))\n",
    "axes.grid(True)\n",
    "\n",
    "# Image\n",
    "# Compute some geometry\n",
    "u, s, v = numpy.linalg.svd(A)\n",
    "theta = numpy.empty(A.shape[0])\n",
    "ellipse_axes = numpy.empty(A.shape)\n",
    "theta[0] = numpy.arccos(u[0][0]) / numpy.linalg.norm(u[0], ord=2)\n",
    "theta[1] = theta[0] - numpy.pi / 2.0\n",
    "for i in range(theta.shape[0]):\n",
    "    ellipse_axes[0, i] = s[i] * numpy.cos(theta[i])\n",
    "    ellipse_axes[1, i] = s[i] * numpy.sin(theta[i])\n",
    "\n",
    "axes = fig.add_subplot(1, 2, 2, aspect='equal')\n",
    "axes.add_artist(patches.Ellipse((0.0, 0.0), 2 * s[0], 2 * s[1], theta[0] * 180.0 / numpy.pi,\n",
    "                                edgecolor='r', facecolor='none'))\n",
    "for i in range(A.shape[0]):\n",
    "    axes.arrow(0.0, 0.0, ellipse_axes[0, i] - head_length * numpy.cos(theta[i]), \n",
    "                         ellipse_axes[1, i] - head_length * numpy.sin(theta[i]), \n",
    "                         head_width=head_width, color='k')\n",
    "draw_unit_vectors(axes, A, head_width=0.2)\n",
    "axes.set_title(\"||Ax||\")\n",
    "axes.set_xlim((-s[0] + 0.1, s[0] + 0.1))\n",
    "axes.set_ylim((-s[0] + 0.1, s[0] + 0.1))\n",
    "axes.grid(True)\n",
    "\n",
    "plt.show()"
   ]
  },
  {
   "cell_type": "code",
   "execution_count": null,
   "metadata": {
    "slideshow": {
     "slide_type": "skip"
    }
   },
   "outputs": [],
   "source": [
    "# ============\n",
    "# infty-norm\n",
    "# Unit-ball\n",
    "fig = plt.figure()\n",
    "fig.suptitle(\"$\\infty$-Norm\")\n",
    "fig.set_figwidth(fig.get_figwidth() * 2)\n",
    "\n",
    "axes = fig.add_subplot(1, 2, 1, aspect='equal')\n",
    "axes.plot((1.0, -1.0, -1.0, 1.0, 1.0), (1.0, 1.0, -1.0, -1.0, 1.0), 'r')\n",
    "draw_unit_vectors(axes, numpy.eye(2))\n",
    "axes.set_title(\"||x||\")\n",
    "axes.set_xlim((-1.1, 1.1))\n",
    "axes.set_ylim((-1.1, 1.1))\n",
    "axes.grid(True)\n",
    "\n",
    "# Image\n",
    "# Geometry - Corners are A * ((1, 1), (1, -1), (-1, 1), (-1, -1))\n",
    "# Symmetry implies we only need two.  Here we just plot two\n",
    "u = numpy.empty(A.shape)\n",
    "u[:, 0] = numpy.dot(A, numpy.array((1.0, 1.0)))\n",
    "u[:, 1] = numpy.dot(A, numpy.array((-1.0, 1.0)))\n",
    "theta[0] = numpy.arccos(u[0, 0] / numpy.linalg.norm(u[:, 0], ord=2))\n",
    "theta[1] = numpy.arccos(u[0, 1] / numpy.linalg.norm(u[:, 1], ord=2))\n",
    "\n",
    "axes = fig.add_subplot(1, 2, 2, aspect='equal')\n",
    "axes.plot((3, 1, -3, -1, 3), (2, 2, -2, -2, 2), 'r')\n",
    "for i in range(A.shape[0]):\n",
    "    axes.arrow(0.0, 0.0, u[0, i] - head_length * numpy.cos(theta[i]), \n",
    "                         u[1, i] - head_length * numpy.sin(theta[i]), \n",
    "                         head_width=head_width, color='k')\n",
    "\n",
    "draw_unit_vectors(axes, A, head_width=0.2)\n",
    "axes.set_title(\"||Ax||\")\n",
    "axes.set_xlim((-4.1, 4.1))\n",
    "axes.set_ylim((-3.1, 3.1))\n",
    "axes.grid(True)\n",
    "\n",
    "plt.show()"
   ]
  },
  {
   "cell_type": "markdown",
   "metadata": {
    "slideshow": {
     "slide_type": "subslide"
    }
   },
   "source": [
    "#### Cauchy-Schwarz and Hölder Inequalities\n",
    "\n",
    "Computing matrix norms where $p \\neq 1$ or $\\infty$ is more difficult unfortunately.  We have a couple of tools that can be useful however.  \n",
    "\n",
    " - **Cauchy-Schwarz Inequality**:  For the special case where $p=q=2$, for any vectors $\\vec{x}$ and $\\vec{y}$\n",
    "$$\n",
    "    |\\vec{x}^*\\vec{y}| \\leq ||\\vec{x}||_2 ||\\vec{y}||_2\n",
    "$$\n",
    " - **Hölder's Inequality**:  Turns out this holds in general if given a $p$ and $q$ that satisfy $1/p + 1/q = 1$ with $1 \\leq p, q \\leq \\infty$\n",
    "\n",
    "$$\n",
    "    |\\vec{x}^*\\vec{y}| \\leq ||\\vec{x}||_p ||\\vec{y}||_q.\n",
    "$$"
   ]
  },
  {
   "cell_type": "markdown",
   "metadata": {
    "slideshow": {
     "slide_type": "subslide"
    }
   },
   "source": [
    "#### General Matrix Norms (induced and  non-induced)\n",
    "\n",
    "In general matrix-norms have the following properties whether they are induced from a vector-norm or not:\n",
    "1. $||A|| \\geq 0$ and $||A|| = 0$ only if $A = 0$\n",
    "1. $||A + B|| \\leq ||A|| + ||B||$ (Triangle Inequality)\n",
    "1. $||c A|| = |c| ||A||$"
   ]
  },
  {
   "cell_type": "markdown",
   "metadata": {
    "slideshow": {
     "slide_type": "slide"
    }
   },
   "source": [
    "#  Using linear  systems  for interpolation\n",
    "\n",
    "Let us start by considering a polynomial $\\mathcal{P}_n(x) = p_0 + p_1 x + p_2 x^2 + \\cdots + p_{n-1} x^{n-1}$ and requiring the value of the polynomial to match our desired values at a number of points $(x_i, y_i), ~~ i = 0,1, 2, \\ldots, m-1$ . \n",
    "\n",
    "\n",
    "$$\n",
    "\\begin{align*}\n",
    "\\mathcal{P}_n(x_0) &= p_0 + p_1 x_0 + p_2 {x_0}^2 + \\cdots + p_{n-1} {x_0}^{n-1}, \\\\[10pt]\n",
    "\\mathcal{P}_n(x_1) &= p_0 + p_1 x_2 + p_2 {x_1}^2 + \\cdots + p_{n-1} {x_1}^{n-1}, \\\\[10pt]\n",
    "\\vdots \\qquad & \\qquad  \\qquad \\qquad  \\vdots  \\qquad  \\qquad \\qquad  \\vdots\\\\[10pt]\n",
    "\\mathcal{P}_n(x_{m-1}) &= p_0 + p_1 x_{m-1} + p_2 {x_{m-1}}^2 + \\cdots + p_{n-1} {x_{m-1}}^{n-1}. \\\\[10pt]\n",
    "\\end{align*}\n",
    "$$\n",
    "\n",
    "\n",
    "Writing the equations in matrix form gives us  the linear system.\n",
    "\n",
    "$$V \\vec{p} = \\vec{y}, \\quad \\quad\n",
    "V = \\begin{bmatrix}\n",
    "    1 & x_1 & x_1^2 & \\cdots & x_1^{n-1} \\\\\n",
    "    1 & x_2 & x_2^2 & \\cdots & x_2^{n-1} \\\\\n",
    "    \\vdots & \\vdots & \\vdots & & \\vdots \\\\\n",
    "    1 & x_m & x_m^2 & \\cdots & x_m^{n-1}\n",
    "\\end{bmatrix}, \\quad \\quad \\vec p = \\begin{bmatrix}\n",
    "p_0 \\\\ p_1 \\\\ \\vdots \\\\ p_{n-1}\n",
    "\\end{bmatrix},\n",
    "\\quad \\quad \\vec y = \\begin{bmatrix}\n",
    "y_1 \\\\ y_2 \\\\ \\vdots \\\\ y_m\n",
    "\\end{bmatrix}.\n",
    "$$\n"
   ]
  },
  {
   "cell_type": "code",
   "execution_count": 50,
   "metadata": {
    "slideshow": {
     "slide_type": "subslide"
    }
   },
   "outputs": [
    {
     "name": "stdout",
     "output_type": "stream",
     "text": [
      "c = [-7.77156117e-16  9.99954773e-01 -2.01715004e-15 -1.66492872e-01\n",
      "  5.19854336e-16  8.24024687e-03 -3.92540730e-17 -1.82644987e-04\n",
      "  8.67471819e-19  1.72609489e-06]\n"
     ]
    },
    {
     "data": {
      "text/plain": [
       "(10, 10)"
      ]
     },
     "execution_count": 50,
     "metadata": {},
     "output_type": "execute_result"
    }
   ],
   "source": [
    "import numpy as np\n",
    "import matplotlib.pyplot as plt\n",
    "x = np.linspace(-5,5,10)\n",
    "y = np.sin(x) \n",
    "\n",
    "# choose degree 4 polynomial as model\n",
    "degree=9\n",
    "\n",
    "def Vandermonde(x,degree):\n",
    "\n",
    "    V = np.zeros((x.shape[0],degree +1 ))\n",
    "    for idx in range(degree+1):\n",
    "        V[:,idx] = np.power(x,idx)\n",
    "    return  V\n",
    "\n",
    "## Solve Vc = y\n",
    "V = Vandermonde(x,degree)\n",
    "c = np.linalg.solve(V,y)\n",
    "print('c =', c)\n",
    "\n"
   ]
  },
  {
   "cell_type": "code",
   "execution_count": 51,
   "metadata": {
    "slideshow": {
     "slide_type": "subslide"
    }
   },
   "outputs": [
    {
     "data": {
      "text/plain": [
       "(100, 10)"
      ]
     },
     "execution_count": 51,
     "metadata": {},
     "output_type": "execute_result"
    },
    {
     "data": {
      "image/png": "[encoded data removed]",
      "text/plain": [
       "<Figure size 864x576 with 1 Axes>"
      ]
     },
     "metadata": {
      "needs_background": "light"
     },
     "output_type": "display_data"
    }
   ],
   "source": [
    "%matplotlib inline\n",
    "plt.figure(figsize=(12,8))\n",
    "plt.plot(x,y,'ro',ms=10)\n",
    "x_plot = np.linspace(-6,6,100)\n",
    "V_plot = Vandermonde(x_plot,degree)\n",
    "poly = np.matmul(V_plot,c.reshape(-1,1))\n",
    "plt.plot(x_plot,poly, ls='--')\n",
    "plt.plot(x_plot,np.sin(x_plot))\n",
    "plt.legend(['$\\sin{x}$','$P_10(x)$'])\n",
    "V_plot.shape"
   ]
  },
  {
   "cell_type": "markdown",
   "metadata": {
    "slideshow": {
     "slide_type": "slide"
    }
   },
   "source": [
    "## Using linear systems for least-squares curve fitting \n",
    "\n",
    "Consider the case when your data is unreliable(noisy). You can try to compensate for that by oversampling. The system of equations still looks like: \n",
    "\n",
    "$$ V \\vec{p} = \\vec{y}, $$\n",
    "\n",
    "however\n",
    "$$ \\vec{y} \\in \\mathbb{R}^m, ~~ \\vec{p} \\in \\mathbb{R}^m, ~~ p\\ll m $$"
   ]
  },
  {
   "cell_type": "markdown",
   "metadata": {
    "slideshow": {
     "slide_type": "subslide"
    }
   },
   "source": [
    "Indtead of making sure the polynomial passes through our data, let's minimize some norm of the distance between the model output and the data: \n",
    "\n",
    "$$\n",
    "    \\min{E} = \\left( \\sum^m_{i=1} |y_i - P_n(x_i)|^2 \\right )^{1/2},\n",
    "$$\n",
    "\n",
    "$$V^T V x = V^T y.$$\n",
    "\n",
    "$$ V x =  y.$$"
   ]
  },
  {
   "cell_type": "markdown",
   "metadata": {
    "slideshow": {
     "slide_type": "subslide"
    }
   },
   "source": [
    "<!-- import numpy as np\n",
    "x = np.linspace(0,5,50)\n",
    "y = np.sin(x) + 0.2*np.random.normal(size=x.shape)\n",
    "degree=5\n",
    "\n",
    "def Vandermonde(x,degree):\n",
    "\n",
    "    V = np.zeros((x.shape[0],degree +1 ))\n",
    "    for idx in range(degree+1):\n",
    "        V[:,idx] = np.power(x,idx)\n",
    "    return  V\n",
    "\n",
    "## Solve Vc = y\n",
    "V = Vandermonde(x,degree)\n",
    "c = np.linalg.solve(np.matmul(V.T,V),np.matmul(V.T,y))\n",
    "print('c =', c) -->"
   ]
  },
  {
   "cell_type": "markdown",
   "metadata": {
    "slideshow": {
     "slide_type": "subslide"
    }
   },
   "source": [
    "<!-- plt.scatter(x,y)\n",
    "x_plot = np.linspace(0,5,100)\n",
    "V_plot = Vandermonde(x_plot,degree)\n",
    "poly = np.matmul(V_plot,c.reshape(-1,1))\n",
    "plt.plot(x_plot,poly) -->"
   ]
  }
 ],
 "metadata": {
  "celltoolbar": "Slideshow",
  "kernelspec": {
   "display_name": "Python 3",
   "language": "python",
   "name": "python3"
  },
  "language_info": {
   "codemirror_mode": {
    "name": "ipython",
    "version": 3
   },
   "file_extension": ".py",
   "mimetype": "text/x-python",
   "name": "python",
   "nbconvert_exporter": "python",
   "pygments_lexer": "ipython3",
   "version": "3.8.3"
  },
  "latex_envs": {
   "bibliofile": "biblio.bib",
   "cite_by": "apalike",
   "current_citInitial": 1,
   "eqLabelWithNumbers": true,
   "eqNumInitial": 0
  }
 },
 "nbformat": 4,
 "nbformat_minor": 4
}
