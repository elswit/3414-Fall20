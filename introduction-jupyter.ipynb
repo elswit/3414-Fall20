{
  "nbformat": 4,
  "nbformat_minor": 0,
  "metadata": {
    "colab": {
      "name": "Introduction.ipynb",
      "provenance": [],
      "collapsed_sections": []
    },
    "kernelspec": {
      "name": "python3",
      "display_name": "Python 3"
    }
  },
  "cells": [
    {
      "cell_type": "markdown",
      "metadata": {
        "id": "2CSOPiKM8oUz",
        "colab_type": "text"
      },
      "source": [
        "# Jupyter Notebooks"
      ]
    },
    {
      "cell_type": "markdown",
      "metadata": {
        "id": "cgjOivgQ-Imt",
        "colab_type": "text"
      },
      "source": [
        "### Markdown features\n",
        "**Markdown** supports *formated* text. And renders equations using $\\LaTeX$:\n",
        "\n",
        "\n",
        "$A_{m,n} =\n",
        " \\begin{pmatrix}\n",
        "  a_{1,1} & a_{1,2} & \\cdots & a_{1,n} \\\\\n",
        "  a_{2,1} & a_{2,2} & \\cdots & a_{2,n} \\\\\n",
        "  \\vdots  & \\vdots  & \\ddots & \\vdots  \\\\\n",
        "  a_{m,1} & a_{m,2} & \\cdots & a_{m,n}\n",
        " \\end{pmatrix}$\n",
        "\n",
        "* Creating lists\n",
        "  * Nested ones!\n",
        "\n",
        "and simple tables:\n",
        "\n",
        "Experiment | Errors\n",
        "--- | ---\n",
        "Secant method | 1E-8\n",
        "Newton method | 1E-10\n",
        "\n",
        "It's really easy, just read this  short  [tutorial.](https://colab.research.google.com/notebooks/markdown_guide.ipynb#scrollTo=tPqPXAKKkzaM) \n",
        "\n",
        "###  How to start using Jupyter without any installations\n",
        "* Google [Colab](https://colab.research.google.com)\n",
        "* [CoCalc](https://cocalc.com/)\n",
        "* [Kaggle](https://www.kaggle.com/)\n",
        "\n"
      ]
    },
    {
      "cell_type": "code",
      "metadata": {
        "id": "UdPMR_8w8fRs",
        "colab_type": "code",
        "colab": {}
      },
      "source": [
        ""
      ],
      "execution_count": null,
      "outputs": []
    },
    {
      "cell_type": "markdown",
      "metadata": {
        "id": "Hd8KsUWcBRxj",
        "colab_type": "text"
      },
      "source": [
        "## Python envirnoment\n",
        "You can run code in between text blocks. Lets see an example:"
      ]
    },
    {
      "cell_type": "code",
      "metadata": {
        "id": "C5ntp-MF5aLv",
        "colab_type": "code",
        "colab": {
          "base_uri": "https://localhost:8080/",
          "height": 34
        },
        "outputId": "06f03f9d-b5fc-4a8f-fd60-cdb0d5392be8"
      },
      "source": [
        "936*2"
      ],
      "execution_count": null,
      "outputs": [
        {
          "output_type": "execute_result",
          "data": {
            "text/plain": [
              "1872"
            ]
          },
          "metadata": {
            "tags": []
          },
          "execution_count": 3
        }
      ]
    },
    {
      "cell_type": "markdown",
      "metadata": {
        "id": "L3XuAv0oCCIX",
        "colab_type": "text"
      },
      "source": [
        "Load some packages to help us with numerics and plotting:"
      ]
    },
    {
      "cell_type": "code",
      "metadata": {
        "id": "msiTEWr6BpaV",
        "colab_type": "code",
        "colab": {}
      },
      "source": [
        "import numpy as np\n",
        "import matplotlib.pyplot as plt"
      ],
      "execution_count": null,
      "outputs": []
    },
    {
      "cell_type": "code",
      "metadata": {
        "id": "j48bSAcDCMqW",
        "colab_type": "code",
        "colab": {}
      },
      "source": [
        "x = np.linspace(0, 4*np.pi, 100)"
      ],
      "execution_count": null,
      "outputs": []
    },
    {
      "cell_type": "code",
      "metadata": {
        "id": "wCr1JZ4fCV1Y",
        "colab_type": "code",
        "colab": {
          "base_uri": "https://localhost:8080/",
          "height": 50
        },
        "outputId": "b01f61c5-37a4-45e5-e750-40cefb3f8304"
      },
      "source": [
        "x[0:10]"
      ],
      "execution_count": null,
      "outputs": [
        {
          "output_type": "execute_result",
          "data": {
            "text/plain": [
              "array([0.        , 0.12693304, 0.25386607, 0.38079911, 0.50773215,\n",
              "       0.63466518, 0.76159822, 0.88853126, 1.01546429, 1.14239733])"
            ]
          },
          "metadata": {
            "tags": []
          },
          "execution_count": 19
        }
      ]
    },
    {
      "cell_type": "code",
      "metadata": {
        "id": "H20R-idbCX9u",
        "colab_type": "code",
        "colab": {
          "base_uri": "https://localhost:8080/",
          "height": 282
        },
        "outputId": "c47334b9-5e76-4578-9d09-bfac41aa9ace"
      },
      "source": [
        "plt.plot(np.cos(x)+ x/3)"
      ],
      "execution_count": null,
      "outputs": [
        {
          "output_type": "execute_result",
          "data": {
            "text/plain": [
              "[<matplotlib.lines.Line2D at 0x7f4e990dd7b8>]"
            ]
          },
          "metadata": {
            "tags": []
          },
          "execution_count": 23
        },
        {
          "output_type": "display_data",
          "data": {
            "image/png": "[encoded data removed]",
            "text/plain": [
              "<Figure size 432x288 with 1 Axes>"
            ]
          },
          "metadata": {
            "tags": [],
            "needs_background": "light"
          }
        }
      ]
    },
    {
      "cell_type": "code",
      "metadata": {
        "id": "tnmots5ACir6",
        "colab_type": "code",
        "colab": {}
      },
      "source": [
        ""
      ],
      "execution_count": null,
      "outputs": []
    }
  ]
}