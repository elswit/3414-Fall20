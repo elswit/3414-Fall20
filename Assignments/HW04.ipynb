{
 "cells": [
  {
   "cell_type": "markdown",
   "metadata": {},
   "source": [
    "<table>\n",
    " <tr align=left><td><img align=left src=\"https://mirrors.creativecommons.org/presskit/buttons/80x15/png/by.png\">\n",
    " <td>Text provided under a Creative Commons Attribution license, CC-BY. All code is made available under the FSF-approved MIT license. Created for CS/MATH 3414 by Arash Sarshar.</td>\n",
    " <td> </td>\n",
    "</table>"
   ]
  },
  {
   "cell_type": "markdown",
   "metadata": {},
   "source": [
    "## Assignment 04: Taylor expansions\n",
    "\n",
    "Reminder: Please make sure you describe the intermediate steps you are taking to get to your final results clearly."
   ]
  },
  {
   "cell_type": "markdown",
   "metadata": {},
   "source": [
    "## Q1 Function approximation\n",
    "(Courtesy of Prof. Adrian Sandu)\n",
    "\n",
    "\n",
    "\n",
    "Step 1. Write the Taylor expansion for $e^x$ near $x \\approx 0$ with at least five terms in the expansion.\n",
    "\n"
   ]
  },
  {
   "cell_type": "code",
   "execution_count": null,
   "metadata": {},
   "outputs": [],
   "source": []
  },
  {
   "cell_type": "markdown",
   "metadata": {},
   "source": [
    "Step 2. Using change of variables write the expanson for $e^{-t^2}$"
   ]
  },
  {
   "cell_type": "code",
   "execution_count": null,
   "metadata": {},
   "outputs": [],
   "source": []
  },
  {
   "cell_type": "markdown",
   "metadata": {},
   "source": [
    "Step 2. Using step 2 write the Taylor expanson for the follwoing function with at least 5 terms:\n",
    "$$f(x) = \\frac{1}{x} \\int_0^x e^{-t^2} \\text{d}t $$\n",
    "\n",
    "hint: fisrt integrate, then evaluate at the integral bounds, then divide by x all the while modifiying the terms of the Taylor series."
   ]
  },
  {
   "cell_type": "code",
   "execution_count": null,
   "metadata": {},
   "outputs": [],
   "source": []
  },
  {
   "cell_type": "markdown",
   "metadata": {},
   "source": [
    "##  Q2 Lemma in chapter 1\n",
    "(Mitchell's problem )\n",
    "\n",
    "Step1. Write down derivatives of the function $f(x) = \\frac{1}{x+1}$ at least up to $f'''$. Construct the terms of the **Taylor serie** near $x \\approx 0$ and  show that:\n",
    "\n",
    "$\\frac{1}{1+x} \\approx 1 - x +x^2 - x^3 + \\cdots  $"
   ]
  },
  {
   "cell_type": "code",
   "execution_count": null,
   "metadata": {},
   "outputs": [],
   "source": []
  },
  {
   "cell_type": "markdown",
   "metadata": {},
   "source": [
    "Step 2. Estimate what degree of Taylor polynomial you will need if you want the the error in the approximation to be less than $10^{-2}$. (Hint: Use the next term in the series as approximately the remainder)"
   ]
  },
  {
   "cell_type": "code",
   "execution_count": null,
   "metadata": {},
   "outputs": [],
   "source": []
  }
 ],
 "metadata": {
  "kernelspec": {
   "display_name": "Python 3",
   "language": "python",
   "name": "python3"
  },
  "language_info": {
   "codemirror_mode": {
    "name": "ipython",
    "version": 3
   },
   "file_extension": ".py",
   "mimetype": "text/x-python",
   "name": "python",
   "nbconvert_exporter": "python",
   "pygments_lexer": "ipython3",
   "version": "3.8.3"
  }
 },
 "nbformat": 4,
 "nbformat_minor": 4
}
