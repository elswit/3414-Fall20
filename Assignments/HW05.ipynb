{
 "cells": [
  {
   "cell_type": "markdown",
   "metadata": {},
   "source": [
    "<table>\n",
    " <tr align=left><td><img align=left src=\"https://mirrors.creativecommons.org/presskit/buttons/80x15/png/by.png\">\n",
    " <td>Text provided under a Creative Commons Attribution license, CC-BY. All code is made available under the FSF-approved MIT license. Created for CS/MATH 3414 by Arash Sarshar.</td>\n",
    " <td> </td>\n",
    "</table>"
   ]
  },
  {
   "cell_type": "markdown",
   "metadata": {
    "slideshow": {
     "slide_type": "skip"
    }
   },
   "source": [
    "## Assignment 05: Piecewise Interpolation\n"
   ]
  },
  {
   "cell_type": "code",
   "execution_count": null,
   "metadata": {},
   "outputs": [],
   "source": [
    "import pandas as pd\n",
    "import numpy as np\n",
    "import matplotlib.pyplot as plt"
   ]
  },
  {
   "cell_type": "markdown",
   "metadata": {},
   "source": [
    "### Loading the data\n",
    "Download **the latest** CDC data for virginia COV-2-19 infections:"
   ]
  },
  {
   "cell_type": "code",
   "execution_count": null,
   "metadata": {},
   "outputs": [],
   "source": [
    "!wget https://covidtracking.com/data/download/virginia-history.csv"
   ]
  },
  {
   "cell_type": "markdown",
   "metadata": {},
   "source": [
    "If the above command doesn't work. Download the data manually from [this](https://covidtracking.com/data/download/virginia-history.csv) url and put the file in the same directory as your notebook.\n",
    "\n",
    "Next, load the data into python using `Pandas` package. We will work with the latest 181 days worth of data. As usual we have a time index variable and number of new positive case. In order to somewhat filter out the effects of test capabilities, let's look at  the *number of daily hospitalizations*.  "
   ]
  },
  {
   "cell_type": "code",
   "execution_count": null,
   "metadata": {},
   "outputs": [],
   "source": [
    "data = pd.read_csv('virginia-history.csv', index_col=0)\n",
    "num_cases = np.flip(data.iloc[0:180][\"hospitalizedCurrently\"].to_numpy())\n",
    "time_index = np.linspace(0,180,180)\n",
    "num_days = len(time_index)"
   ]
  },
  {
   "cell_type": "markdown",
   "metadata": {},
   "source": [
    "If you plot the data, you can see that its not very smooth. "
   ]
  },
  {
   "cell_type": "code",
   "execution_count": null,
   "metadata": {},
   "outputs": [],
   "source": [
    "plt.plot(time_index,num_cases)\n",
    "plt.xlabel('Day number')\n",
    "plt.ylabel('Num cases')"
   ]
  },
  {
   "cell_type": "markdown",
   "metadata": {},
   "source": [
    "### Task 1: Smoothing\n",
    "Our first task is to smooth the fluctuations in the data. Write a script that does the following: \n",
    "\n",
    "For each day compute the average of the positive cases from 4 days back, current day and 4 days ahead. So for day $i$ compute :\n",
    "\n",
    "$$\n",
    " y^*_i = \\frac{y_{i-4} + y_{i-3}+ \\cdots +  y_i + \\cdots y_{i+3}+ y_{i+4}}{9}, \\quad \\quad i,4,3, \\ldots, 176.\n",
    "$$\n",
    "\n",
    "Note that in order to have enough points for averaging we started at day 4 and ended at day 176. Create a new array containing the averaged data. Be careful about the size of the array and zero indexing."
   ]
  },
  {
   "cell_type": "code",
   "execution_count": null,
   "metadata": {},
   "outputs": [],
   "source": [
    "new_cases_smooth = []"
   ]
  },
  {
   "cell_type": "markdown",
   "metadata": {},
   "source": [
    "Plot the original data and the averaged data against a correct time index, on the same plot. Dont forget the axis labels and legend! "
   ]
  },
  {
   "cell_type": "code",
   "execution_count": null,
   "metadata": {},
   "outputs": [],
   "source": [
    "plt.plot()"
   ]
  },
  {
   "cell_type": "markdown",
   "metadata": {},
   "source": [
    "###  Task 2 : Interpolating splines on the data\n",
    "\n",
    "We will use ``scipy.interpolate`` for this task. It readlily provides diffent interpolation methods. Lets import the function that gives us a  $C^2$ - quadratic interpolant: "
   ]
  },
  {
   "cell_type": "code",
   "execution_count": null,
   "metadata": {},
   "outputs": [],
   "source": [
    "from scipy.interpolate import UnivariateSpline"
   ]
  },
  {
   "cell_type": "markdown",
   "metadata": {},
   "source": [
    "Read the [documentation](https://docs.scipy.org/doc/scipy/reference/generated/scipy.interpolate.UnivariateSpline.html) carefully. Find out what arguments you should pass to ``UnivariateSpline`` to get the **piecewise-quadratic** interpolant function (decide what value of k should be passed. Set s to zero). Use your **smoothed data** as input. "
   ]
  },
  {
   "cell_type": "code",
   "execution_count": null,
   "metadata": {},
   "outputs": [],
   "source": [
    "interpolant = "
   ]
  },
  {
   "cell_type": "markdown",
   "metadata": {},
   "source": [
    "Make sure that your spline is interpolating by evaluating it at day 4 and subtract from it the smooth data on  on that day. You should get a very small error. \n",
    "\n",
    "- Note: The output of ``UnivariateSpline`` is a function that you can evaulate on a list of points"
   ]
  },
  {
   "cell_type": "code",
   "execution_count": null,
   "metadata": {},
   "outputs": [],
   "source": [
    "err_at_one_point = "
   ]
  },
  {
   "cell_type": "markdown",
   "metadata": {},
   "source": [
    "### Task 3: Plotting"
   ]
  },
  {
   "cell_type": "markdown",
   "metadata": {},
   "source": [
    "Once you are confident the interpolant is correct, evalaute it on the entire ``time_index``. Then make a plot of original un-averaged data, on  top of your interpolant. Describe what you see qualitatively. "
   ]
  },
  {
   "cell_type": "code",
   "execution_count": null,
   "metadata": {},
   "outputs": [],
   "source": [
    "plt.figure(figsize=(12,8))"
   ]
  },
  {
   "cell_type": "markdown",
   "metadata": {},
   "source": [
    "Also compute the two-norm of error between un-averaged data and the interpolant evaulated at ``time_index``:"
   ]
  },
  {
   "cell_type": "code",
   "execution_count": null,
   "metadata": {},
   "outputs": [],
   "source": [
    "error_all_days = "
   ]
  },
  {
   "cell_type": "markdown",
   "metadata": {},
   "source": [
    "## Bonus question\n",
    "\n",
    "In the Tasks above we started by averaging the  data, because we didn't want to make a very oscillitoray interpolant. Another approach to *denoising* the data is least squares fitting.  The function ``LSQUnivariateSpline`` allows you to **fit** a spline instead of **interpolating** it to the data. \n",
    "\n",
    "Read the  documentation for ``LSQUnivariateSpline``. The minimum number of objects you have to pass to the fuction are:\n",
    "\n",
    "1. `time_index`\n",
    "2. un-averaged raw data \n",
    "3. a number of interior points where the spline is created at. \n",
    "\n",
    "### Task 1\n",
    "\n",
    "Create an array of interior points with length 10, starting at 4 and ending at 176. \n",
    "\n",
    "### Task 2 \n",
    "\n",
    "Call ``LSQUnivariateSpline`` passing un-averaged data to it. Create your **piecewise-quadratic** spline fit function.\n",
    "\n",
    "### Task 3 \n",
    "\n",
    "Compute the same errors as in the previous question. Report the errors, make the plots and compare. "
   ]
  },
  {
   "cell_type": "code",
   "execution_count": null,
   "metadata": {},
   "outputs": [],
   "source": [
    "from scipy.interpolate import LSQUnivariateSpline"
   ]
  },
  {
   "cell_type": "code",
   "execution_count": null,
   "metadata": {},
   "outputs": [],
   "source": []
  }
 ],
 "metadata": {
  "celltoolbar": "Slideshow",
  "kernelspec": {
   "display_name": "Python 3",
   "language": "python",
   "name": "python3"
  },
  "language_info": {
   "codemirror_mode": {
    "name": "ipython",
    "version": 3
   },
   "file_extension": ".py",
   "mimetype": "text/x-python",
   "name": "python",
   "nbconvert_exporter": "python",
   "pygments_lexer": "ipython3",
   "version": "3.8.3"
  },
  "latex_envs": {
   "bibliofile": "biblio.bib",
   "cite_by": "apalike",
   "current_citInitial": 1,
   "eqLabelWithNumbers": true,
   "eqNumInitial": 0
  }
 },
 "nbformat": 4,
 "nbformat_minor": 4
}
