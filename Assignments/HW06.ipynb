{
 "cells": [
  {
   "cell_type": "markdown",
   "metadata": {},
   "source": [
    "<table>\n",
    " <tr align=left><td><img align=left src=\"https://mirrors.creativecommons.org/presskit/buttons/80x15/png/by.png\">\n",
    " <td>Text provided under a Creative Commons Attribution license, CC-BY. All code is made available under the FSF-approved MIT license. Created for CS/MATH 3414 by Arash Sarshar.</td>\n",
    " <td> </td>\n",
    "</table>"
   ]
  },
  {
   "cell_type": "markdown",
   "metadata": {},
   "source": [
    "## Assignment 06: Numerical Differentiation\n",
    "\n",
    "Reminder: Please make sure you describe the intermediate steps you are taking to get to your final results clearly.  In Q2 you can use a calculator or python to do the calculations. "
   ]
  },
  {
   "cell_type": "markdown",
   "metadata": {},
   "source": [
    "## Q1: 4 point upwind stencil for second derivatives\n",
    "\n",
    "Step 1. Assuming equi-distant mesh points with distance $h$, write the Taylor expansions for \n",
    "$$f(x - h), \\quad f(x - 2h), \\quad f(x - 3h)$$\n",
    "\n"
   ]
  },
  {
   "cell_type": "code",
   "execution_count": null,
   "metadata": {},
   "outputs": [],
   "source": []
  },
  {
   "cell_type": "markdown",
   "metadata": {},
   "source": [
    "Step 2. Writing down a parametrized formula for the second derivative function:\n",
    "\n",
    "$$\n",
    "\\begin{equation}\n",
    "f''(x) + R(x) = A f(x) + B f(x-h) + C f(x-2h) + D f(x-3h) \\quad \\quad (1)\n",
    "\\end{equation}\n",
    "$$\n",
    "\n",
    "insert the Tylor expansions and gather all terms multiplying f(x), f'(x) and so on."
   ]
  },
  {
   "cell_type": "code",
   "execution_count": null,
   "metadata": {},
   "outputs": [],
   "source": []
  },
  {
   "cell_type": "markdown",
   "metadata": {},
   "source": [
    "Step 3. Comparing the terms  on the left and right hand side of (1) write  down the resulting system of equations. How many equations do you need to fully determine the unknowns? \n"
   ]
  },
  {
   "cell_type": "code",
   "execution_count": null,
   "metadata": {},
   "outputs": [],
   "source": []
  },
  {
   "cell_type": "markdown",
   "metadata": {},
   "source": [
    "Step 4. Solve the system and report the coefficients $A$ to $D$. Substitute the values in (1), simplify and find out what is the order of the remainder term $R(x)$"
   ]
  },
  {
   "cell_type": "code",
   "execution_count": null,
   "metadata": {},
   "outputs": [],
   "source": []
  },
  {
   "cell_type": "markdown",
   "metadata": {},
   "source": [
    "Step 5. Double check your math for steps 1 through 4. Once you're confident, take $h_1 = 0.02$ and approximate $f''$ for the function $f(x) = \\ln{(x+1)}$  at $x=0$ using your formula. Find the exact derivate and compute the error $e_1$  between the exact and approximate values (in absolute value)"
   ]
  },
  {
   "cell_type": "code",
   "execution_count": null,
   "metadata": {},
   "outputs": [],
   "source": []
  },
  {
   "cell_type": "markdown",
   "metadata": {},
   "source": [
    "Step 6.  Take $h_2 = 0.01$ and approximate $f''$  for the function $f(x) = \\ln{(x+1)}$  at $x=0$ using your formula. Find the exact derivate and compute the error $e_2$  between the exact and approximate values (in absolute value)"
   ]
  },
  {
   "cell_type": "code",
   "execution_count": null,
   "metadata": {},
   "outputs": [],
   "source": []
  },
  {
   "cell_type": "markdown",
   "metadata": {},
   "source": [
    "Step 7.  What should be the ratio of errors $\\frac{e_1}{e_2}$ when the mesh size was halved? Make an argument for it, then compute the actual ratio and compare. "
   ]
  },
  {
   "cell_type": "code",
   "execution_count": null,
   "metadata": {},
   "outputs": [],
   "source": []
  }
 ],
 "metadata": {
  "kernelspec": {
   "display_name": "Python 3",
   "language": "python",
   "name": "python3"
  },
  "language_info": {
   "codemirror_mode": {
    "name": "ipython",
    "version": 3
   },
   "file_extension": ".py",
   "mimetype": "text/x-python",
   "name": "python",
   "nbconvert_exporter": "python",
   "pygments_lexer": "ipython3",
   "version": "3.8.3"
  }
 },
 "nbformat": 4,
 "nbformat_minor": 4
}
