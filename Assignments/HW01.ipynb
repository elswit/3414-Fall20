{
 "cells": [
  {
   "cell_type": "markdown",
   "metadata": {},
   "source": [
    "<table>\n",
    " <tr align=left><td><img align=left src=\"https://mirrors.creativecommons.org/presskit/buttons/80x15/png/by.png\">\n",
    " <td>Text provided under a Creative Commons Attribution license, CC-BY. All code is made available under the FSF-approved MIT license. Created for CS/MATH 3414 by Arash Sarshar.</td>\n",
    " <td> </td>\n",
    "</table>"
   ]
  },
  {
   "cell_type": "markdown",
   "metadata": {
    "slideshow": {
     "slide_type": "skip"
    }
   },
   "source": [
    "## Assignment 01: Python\n",
    "\n",
    "Reminder: If you need a  free online service that supports Jupyter try [Colab](https://colab.research.google.com/)."
   ]
  },
  {
   "cell_type": "markdown",
   "metadata": {},
   "source": [
    "## Loading the data\n",
    "We need to download CDC's data for virginia COVID19 infections:"
   ]
  },
  {
   "cell_type": "code",
   "execution_count": 1,
   "metadata": {},
   "outputs": [
    {
     "name": "stdout",
     "output_type": "stream",
     "text": [
      "zsh:1: command not found: wget\n"
     ]
    }
   ],
   "source": [
    "!wget https://covidtracking.com/data/download/virginia-history.csv"
   ]
  },
  {
   "cell_type": "markdown",
   "metadata": {},
   "source": [
    "If the above command doesn't work. Download the data manually from [this](https://covidtracking.com/data/download/virginia-history.csv) url and put the file in the same directory as your notebook.\n",
    "\n",
    "Next, load the data into python using `Pandas` package:\n"
   ]
  },
  {
   "cell_type": "code",
   "execution_count": 53,
   "metadata": {},
   "outputs": [],
   "source": [
    "import pandas as pd\n",
    "import numpy as np\n",
    "data = pd.read_csv('virginia-history.csv', index_col=0)"
   ]
  },
  {
   "cell_type": "markdown",
   "metadata": {},
   "source": [
    "If you're interested in seeing what the data actually contains the following gives you the list of columns:"
   ]
  },
  {
   "cell_type": "code",
   "execution_count": 54,
   "metadata": {},
   "outputs": [
    {
     "data": {
      "text/plain": [
       "Index(['state', 'dataQualityGrade', 'death', 'deathConfirmed', 'deathIncrease',\n",
       "       'deathProbable', 'hospitalized', 'hospitalizedCumulative',\n",
       "       'hospitalizedCurrently', 'hospitalizedIncrease', 'inIcuCumulative',\n",
       "       'inIcuCurrently', 'negative', 'negativeIncrease',\n",
       "       'negativeTestsAntibody', 'negativeTestsPeopleAntibody',\n",
       "       'negativeTestsViral', 'onVentilatorCumulative', 'onVentilatorCurrently',\n",
       "       'pending', 'positive', 'positiveCasesViral', 'positiveIncrease',\n",
       "       'positiveScore', 'positiveTestsAntibody', 'positiveTestsAntigen',\n",
       "       'positiveTestsPeopleAntibody', 'positiveTestsPeopleAntigen',\n",
       "       'positiveTestsViral', 'recovered', 'totalTestEncountersViral',\n",
       "       'totalTestEncountersViralIncrease', 'totalTestResults',\n",
       "       'totalTestResultsIncrease', 'totalTestsAntibody', 'totalTestsAntigen',\n",
       "       'totalTestsPeopleAntibody', 'totalTestsPeopleAntigen',\n",
       "       'totalTestsPeopleViral', 'totalTestsPeopleViralIncrease',\n",
       "       'totalTestsViral', 'totalTestsViralIncrease'],\n",
       "      dtype='object')"
      ]
     },
     "execution_count": 54,
     "metadata": {},
     "output_type": "execute_result"
    }
   ],
   "source": [
    "data.columns"
   ]
  },
  {
   "cell_type": "markdown",
   "metadata": {},
   "source": [
    "The rows of the table are timestamps:"
   ]
  },
  {
   "cell_type": "code",
   "execution_count": 55,
   "metadata": {},
   "outputs": [
    {
     "data": {
      "text/plain": [
       "Int64Index([20200901, 20200831, 20200830, 20200829, 20200828, 20200827,\n",
       "            20200826, 20200825, 20200824, 20200823, 20200822, 20200821,\n",
       "            20200820, 20200819, 20200818, 20200817, 20200816, 20200815,\n",
       "            20200814, 20200813, 20200812, 20200811, 20200810, 20200809,\n",
       "            20200808, 20200807, 20200806, 20200805, 20200804, 20200803,\n",
       "            20200802, 20200801, 20200731, 20200730, 20200729, 20200728,\n",
       "            20200727, 20200726, 20200725, 20200724, 20200723, 20200722,\n",
       "            20200721, 20200720, 20200719, 20200718, 20200717, 20200716,\n",
       "            20200715, 20200714, 20200713, 20200712, 20200711, 20200710,\n",
       "            20200709, 20200708, 20200707, 20200706, 20200705, 20200704,\n",
       "            20200703, 20200702, 20200701, 20200630, 20200629, 20200628,\n",
       "            20200627, 20200626, 20200625, 20200624, 20200623, 20200622,\n",
       "            20200621, 20200620, 20200619, 20200618, 20200617, 20200616,\n",
       "            20200615, 20200614, 20200613, 20200612, 20200611, 20200610,\n",
       "            20200609, 20200608, 20200607, 20200606, 20200605, 20200604,\n",
       "            20200603, 20200602, 20200601, 20200531, 20200530, 20200529,\n",
       "            20200528, 20200527, 20200526, 20200525],\n",
       "           dtype='int64', name='date')"
      ]
     },
     "execution_count": 55,
     "metadata": {},
     "output_type": "execute_result"
    }
   ],
   "source": [
    "data.index[0:100]"
   ]
  },
  {
   "cell_type": "markdown",
   "metadata": {},
   "source": [
    "For now, we will only work with a subset of the data that contains positive cases for the past 100 days."
   ]
  },
  {
   "cell_type": "code",
   "execution_count": 56,
   "metadata": {},
   "outputs": [],
   "source": [
    "num_positive_cases = np.flip(data.iloc[0:100][\"positive\"].to_numpy())"
   ]
  },
  {
   "cell_type": "markdown",
   "metadata": {},
   "source": [
    "The goal is to plot this data using matplotlib. First create an  array for the x-axis."
   ]
  },
  {
   "cell_type": "markdown",
   "metadata": {},
   "source": [
    "This data spans roughly 14 weeks. using numpy `linspace` create an array of size 100 of numbers between 1 to 14 and store it:"
   ]
  },
  {
   "cell_type": "code",
   "execution_count": 45,
   "metadata": {},
   "outputs": [],
   "source": [
    "time_index = "
   ]
  },
  {
   "cell_type": "markdown",
   "metadata": {},
   "source": [
    "Import matplotlib library, and use the plot function. Pass x and y data to it to create the _positive cases versus time_ plot. Make sure you add axis labels and a title to the plot.The data contains total number of cases, so naturally your plot should look like an increasing curve. "
   ]
  },
  {
   "cell_type": "code",
   "execution_count": null,
   "metadata": {},
   "outputs": [],
   "source": [
    "import  "
   ]
  },
  {
   "cell_type": "markdown",
   "metadata": {},
   "source": [
    "Create a new numpy array for the number of new positive cases each day. (hint: it's the difference of values between each day and the day before). You can use array slicing or a for loop. \n",
    "\n",
    "Make a new plot with the number of new cases each day on the y axis. Be careful about  the  dimensions of the arrays.  Can you use the same array as before for the x-axis?"
   ]
  },
  {
   "cell_type": "code",
   "execution_count": null,
   "metadata": {},
   "outputs": [],
   "source": [
    "new_cases  = "
   ]
  },
  {
   "cell_type": "markdown",
   "metadata": {},
   "source": [
    "Finally, print the average number of new cases over this period of time. Again,  you can use a for loop or numpy's `average` function."
   ]
  },
  {
   "cell_type": "code",
   "execution_count": null,
   "metadata": {},
   "outputs": [],
   "source": [
    "average_cases_per_day = "
   ]
  },
  {
   "cell_type": "code",
   "execution_count": null,
   "metadata": {},
   "outputs": [],
   "source": []
  }
 ],
 "metadata": {
  "celltoolbar": "Slideshow",
  "kernelspec": {
   "display_name": "Python 3",
   "language": "python",
   "name": "python3"
  },
  "language_info": {
   "codemirror_mode": {
    "name": "ipython",
    "version": 3
   },
   "file_extension": ".py",
   "mimetype": "text/x-python",
   "name": "python",
   "nbconvert_exporter": "python",
   "pygments_lexer": "ipython3",
   "version": "3.8.3"
  },
  "latex_envs": {
   "bibliofile": "biblio.bib",
   "cite_by": "apalike",
   "current_citInitial": 1,
   "eqLabelWithNumbers": true,
   "eqNumInitial": 0
  }
 },
 "nbformat": 4,
 "nbformat_minor": 4
}
