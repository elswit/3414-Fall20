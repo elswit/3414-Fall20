{
 "cells": [
  {
   "cell_type": "markdown",
   "metadata": {},
   "source": [
    "<table>\n",
    " <tr align=left><td><img align=left src=\"https://mirrors.creativecommons.org/presskit/buttons/80x15/png/by.png\">\n",
    " <td>Text provided under a Creative Commons Attribution license, CC-BY. All code is made available under the FSF-approved MIT license. Created for CS/MATH 3414 by Arash Sarshar.</td>\n",
    " <td> </td>\n",
    "</table>"
   ]
  },
  {
   "cell_type": "markdown",
   "metadata": {
    "colab_type": "text",
    "id": "xMuPsznvTJy-"
   },
   "source": [
    "## Assignment 02: Machine Arithmetic\n",
    "\n",
    "You don't need any coding for this assignment.  Type your answers directly in this notebook or in a seperate document.   __Important Note__: Giving the final answer does not earn you any points, what is important is explaining your thought process."
   ]
  },
  {
   "cell_type": "markdown",
   "metadata": {
    "colab_type": "text",
    "id": "Uc_ybszvk6vA"
   },
   "source": [
    "## Q1\n",
    "\n",
    "If the binary representation of 30 is `11110`, without using any converter, __explain__ what the binary representation of 15 and 7.5 are. \n"
   ]
  },
  {
   "cell_type": "markdown",
   "metadata": {
    "colab_type": "text",
    "id": "_Hlkw_3gmHBC"
   },
   "source": [
    "``Answer:``"
   ]
  },
  {
   "cell_type": "markdown",
   "metadata": {
    "colab_type": "text",
    "id": "B8oU7SCxnGWQ"
   },
   "source": [
    "## Q2\n",
    "\n",
    "Calculate the first 6 binary digits for the decimal number 0.42 by finding powers of 2 and taking them away from the number. Sketch out the steps of the calcuation.\n"
   ]
  },
  {
   "cell_type": "markdown",
   "metadata": {
    "colab_type": "text",
    "id": "LNVeiaOtndNF"
   },
   "source": [
    "``Answer:``"
   ]
  },
  {
   "cell_type": "markdown",
   "metadata": {
    "colab_type": "text",
    "id": "y3GFrO83UXOj"
   },
   "source": [
    "\n",
    "## Q3 \n",
    "\n",
    "Consider an __un-normalized__ floating point system with\n",
    "* 3 bits allocated for the digits of the mantisa and one seperate bit containing the sign of the mantissa\n",
    "* 2 bits allocated for the digits of the exponent and one seperate bit containing the sign of the exponent\n",
    "\n",
    "such that the floating point number is:\n",
    "\n",
    "$$ \\begin{align*}\n",
    " x^\\star & := m\\cdot 2^e, \\\\\n",
    " m &= \\pm (0 .\\,b_{-1}\\,b_{-2}\\, b_{-3})_2,  \\\\\n",
    "  e &= \\pm (\\,c_{1}\\,c_{0})_2,  \\\\\n",
    "  c_i, m_i &\\in \\{0,1 \\}.\n",
    " \\end{align*}$$\n",
    "\n",
    "Explain: \n",
    "\n",
    "1.  What is the largest possible exponent in this scheme?  First describe how you come up with it in the binary form then convert it to decimal \n",
    "2. What is the smalles possible exponent in this scheme? (again , both in binary and decimal form)\n",
    "3. What is the smallest (negative) mantissa  you can create  in this system (binary and decimal)\n",
    "4. What is the smallest number representable in this system?\n"
   ]
  },
  {
   "cell_type": "markdown",
   "metadata": {
    "colab_type": "text",
    "id": "H8TC6DECiGej"
   },
   "source": [
    "`Answer:`"
   ]
  },
  {
   "cell_type": "markdown",
   "metadata": {
    "colab_type": "text",
    "id": "M4vZkbbso5NV"
   },
   "source": [
    "## Q4\n",
    "\n",
    "If we want to represent the number 0.42 in the floating point system described in __Q3__ we have to get rid of some extra binary digits. Let's assume we are using rounding to do  that.\n",
    "\n",
    "* What is the rounded floating point representation $x^\\star$ of the real number $x=0.42$ in that system (give both binary and decimal results)? \n",
    "* What is the distance between $x$ and $x^\\star$?\n",
    "* What is the relative error between $x$ and $x^\\star$?"
   ]
  },
  {
   "cell_type": "markdown",
   "metadata": {
    "colab": {},
    "colab_type": "code",
    "id": "jSgLEyJppAiV"
   },
   "source": [
    "`Answer:`"
   ]
  },
  {
   "cell_type": "code",
   "execution_count": null,
   "metadata": {},
   "outputs": [],
   "source": []
  }
 ],
 "metadata": {
  "colab": {
   "collapsed_sections": [],
   "name": "Untitled5.ipynb",
   "provenance": []
  },
  "kernelspec": {
   "display_name": "Python 3",
   "language": "python",
   "name": "python3"
  },
  "language_info": {
   "codemirror_mode": {
    "name": "ipython",
    "version": 3
   },
   "file_extension": ".py",
   "mimetype": "text/x-python",
   "name": "python",
   "nbconvert_exporter": "python",
   "pygments_lexer": "ipython3",
   "version": "3.8.3"
  }
 },
 "nbformat": 4,
 "nbformat_minor": 4
}
