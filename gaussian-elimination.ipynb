{
 "cells": [
  {
   "cell_type": "markdown",
   "metadata": {
    "slideshow": {
     "slide_type": "skip"
    }
   },
   "source": [
    "<table>\n",
    " <tr align=left><td><img align=left src=\"https://mirrors.creativecommons.org/presskit/buttons/80x15/png/by.png\">\n",
    " <td>Text provided under a Creative Commons Attribution license, CC-BY. All code is made available under the FSF-approved MIT license. (c) Kyle T. Mandli. Adapted for CS/MATH 3414 by Arash Sarshar. Shared under the same licenses.</td>\n",
    " <td> </td>\n",
    "</table>"
   ]
  },
  {
   "cell_type": "code",
   "execution_count": 8,
   "metadata": {
    "collapsed": true,
    "jupyter": {
     "outputs_hidden": true
    },
    "slideshow": {
     "slide_type": "skip"
    }
   },
   "outputs": [],
   "source": [
    "from __future__ import print_function\n",
    "\n",
    "%matplotlib inline\n",
    "import numpy\n",
    "import scipy.linalg\n",
    "import matplotlib.pyplot as plt"
   ]
  },
  {
   "cell_type": "markdown",
   "metadata": {
    "slideshow": {
     "slide_type": "slide"
    }
   },
   "source": [
    "# Solving linear systems (direct methods)\n",
    "\n",
    "\n",
    "Direct solvers use ``matrix factorizations``. A process of breaking a matrix into a structured matrix product. In this section, we will learn about `LU factorization`. \n",
    "\n",
    "\n",
    "$$ \n",
    "\\begin{align*}\n",
    "A &= LU,\\\\\n",
    "Ax &= LU x = b,\n",
    "\\end{align*}\n",
    "$$\n",
    "\n",
    "$$\n",
    "    \\begin{bmatrix}\n",
    "    1\\\\ 5 \\\\ 9\n",
    "    \\end{bmatrix} = \n",
    "    \\begin{bmatrix}\n",
    "    3 & 7 & 11 \\\\\n",
    "    3 & 8 & 14 \\\\\n",
    "    1 & 2 & 3\n",
    "    \\end{bmatrix} \n",
    "    \\begin{bmatrix}\n",
    "    x_1\\\\ x_2 \\\\ x_3\n",
    "    \\end{bmatrix}    \n",
    "    = \\begin{bmatrix}\n",
    "    1 & 0 & 0 \\\\\n",
    "    1 & 1 & 0 \\\\\n",
    "     \\frac{1}{3}& -\\frac{1}{3} & 1\n",
    "    \\end{bmatrix}\n",
    "    \\underbrace{\n",
    "    \\begin{bmatrix}\n",
    "    3 & 7 & 11 \\\\\n",
    "    0 & 1 & 3 \\\\\n",
    "    0 & 0 & \\frac{1}{3}\n",
    "    \\end{bmatrix}\n",
    "    \\begin{bmatrix}\n",
    "    x_1\\\\ x_2 \\\\ x_3\n",
    "    \\end{bmatrix} \n",
    "    }_{z = U x} \\,,\n",
    "$$\n",
    "\n",
    "\n",
    "$$\n",
    "\\begin{align*}\n",
    "1 &= z_1, \\\\ \n",
    "5 &= z_1 + z_2, \\\\ \n",
    "9 &= \\frac{1}{3} z_1 -  \\frac{1}{3} z_2 + z_3.\\\\[20pt]\n",
    "z_1 &= 3 x_1 + 7 x_2 + 11 x_3, \\\\ \n",
    "z_2 &= x_2 + 3 x_3, \\\\ \n",
    "z_3 &= \\frac{1}{3} x_3. \n",
    "\\end{align*}\n",
    "$$\n"
   ]
  },
  {
   "cell_type": "markdown",
   "metadata": {
    "slideshow": {
     "slide_type": "slide"
    }
   },
   "source": [
    "# Gaussian Elimination\n",
    "\n",
    "One of the is the processes that can generate $LU$ factorizations is ``Gaussian elimination``. This process transforms a  linear system through a series of operations into one that is triangular and hence staightforward to solve.  These series of operations can be written as a sequence of successive matrix-matrix multiplications by lower triangular matrices.  Letting these matrices be $L_j$ and the resulting upper triangular matrix be $U$ we can write this as\n",
    "\n",
    "$$\n",
    "    \\overbrace{L_{m-1}\\, \\cdots L_2\\, L_1}^{L^{-1}} A = U.\n",
    "$$\n",
    "\n",
    "Labeling the effective operation as $L^{-1}$, we can move it to the other side of the equation and we see that in fact what we have done is computed the  $LU$ factorization of the matrix $A$. If we consider the linear system $Ax = b$, as we transform the matrix $A$ inro  upper triangulaur shape, we can apply the same transformations to the right hand side vectore to keep the system  the  same:\n",
    "\n",
    "$$\n",
    "\\begin{align*}\n",
    "    A x &= b, \\\\\n",
    "    L_{m-1}\\, \\cdots L_2\\, L_1\\, Ax &=   L_{m-1}\\, \\cdots L_2\\, L_1\\, b = Ux.\n",
    "\\end{align*}\n",
    "$$"
   ]
  },
  {
   "cell_type": "markdown",
   "metadata": {
    "slideshow": {
     "slide_type": "subslide"
    }
   },
   "source": [
    "### Example\n",
    "\n",
    "As an example of this process lets consider the matrix\n",
    "$$\n",
    "    A = \\begin{bmatrix}\n",
    "        2 & 1 & 1 & 0 \\\\\n",
    "        4 & 3 & 3 & 1 \\\\\n",
    "        8 & 7 & 9 & 5 \\\\\n",
    "        6 & 7 & 9 & 8\n",
    "    \\end{bmatrix}.\n",
    "$$"
   ]
  },
  {
   "cell_type": "markdown",
   "metadata": {
    "slideshow": {
     "slide_type": "subslide"
    }
   },
   "source": [
    "Lets create a matrix operation that introduces one zero below the first row of A:\n",
    "\n",
    "$$\n",
    "    \\hat L = \\begin{bmatrix}\n",
    "         1 &   &   &  \\\\\n",
    "        -2 & 1 &   &  \\\\\n",
    "         &   & 1 &  \\\\\n",
    "         &   &   & 1\n",
    "    \\end{bmatrix} , \\quad\n",
    "        A = \\begin{bmatrix}\n",
    "        2 & 1 & 1 & 0 \\\\\n",
    "        \\color{red}{4} & 3 & 3 & 1 \\\\\n",
    "        \\color{red}{8} & 7 & 9 & 5 \\\\\n",
    "        \\color{red}{6} & 7 & 9 & 8\n",
    "    \\end{bmatrix} \\quad  \n",
    "    \\hat L A = \\begin{bmatrix}\n",
    "        2 & 1 & 1 & 0 \\\\\n",
    "        0  & 1 & 1 & 1 \\\\\n",
    "        \\color{red}{8}  & 7 & 9 & 5 \\\\\n",
    "        \\color{red}{6}  & 7 & 9 & 8\n",
    "    \\end{bmatrix}.\n",
    "$$"
   ]
  },
  {
   "cell_type": "markdown",
   "metadata": {
    "slideshow": {
     "slide_type": "subslide"
    }
   },
   "source": [
    "The first step is to remove the values in the first column below the diagonal, such that\n",
    "\n",
    "$$\n",
    "     A = \\begin{bmatrix}\n",
    "        2 & 1 & 1 & 0 \\\\\n",
    "        \\color{red}{4} & 3 & 3 & 1 \\\\\n",
    "        \\color{red}{8} & 7 & 9 & 5 \\\\\n",
    "        \\color{red}{6} & 7 & 9 & 8\n",
    "    \\end{bmatrix} \n",
    "     {\\rightarrow} \\quad  L_1 A = \\begin{bmatrix}\n",
    "        2 & 1 & 1 & 0 \\\\\n",
    "        0  & 1 & 1 & 1 \\\\\n",
    "        0  & 3 & 5 & 5 \\\\\n",
    "        0  & 4 & 6 & 8\n",
    "    \\end{bmatrix}.\n",
    "$$"
   ]
  },
  {
   "cell_type": "markdown",
   "metadata": {
    "slideshow": {
     "slide_type": "subslide"
    }
   },
   "source": [
    "So to make zero out all elements in the first column below the diagonal,  we can multiply by the matrix\n",
    "\n",
    "$$\n",
    "    L_1 = \\begin{bmatrix}\n",
    "         1 &   &   &  \\\\\n",
    "        -2 & 1 &   &  \\\\\n",
    "        -4 &   & 1 &  \\\\\n",
    "        -3 &   &   & 1\n",
    "    \\end{bmatrix} \\text{ so that } L_1 A = \\begin{bmatrix}\n",
    "        2 & 1 & 1 & 0 \\\\\n",
    "        0  & {1} & 1 & 1 \\\\\n",
    "        0  & \\color{red}{3} & 5 & 5 \\\\\n",
    "        0  & \\color{red}{4} & 6 & 8\n",
    "    \\end{bmatrix}.\n",
    "$$"
   ]
  },
  {
   "cell_type": "markdown",
   "metadata": {
    "slideshow": {
     "slide_type": "subslide"
    }
   },
   "source": [
    "The next step is to remove the values below the diagonal of the second column.  This can be done with\n",
    "\n",
    "$$\n",
    "    L_2 = \\begin{bmatrix}\n",
    "         1 &    &   &   \\\\\n",
    "           &  1 &   &   \\\\\n",
    "           & -3 & 1 &   \\\\\n",
    "           & -4 &   & 1\n",
    "    \\end{bmatrix} \\text{ so that } L_2 L_1 A = \\begin{bmatrix}\n",
    "        2 & 1 & 1 & 0 \\\\\n",
    "          & 1 & 1 & 1 \\\\\n",
    "          &   & 2 & 2 \\\\\n",
    "          &   & \\color{red}{2} & 4\n",
    "    \\end{bmatrix}.\n",
    "$$"
   ]
  },
  {
   "cell_type": "markdown",
   "metadata": {
    "slideshow": {
     "slide_type": "subslide"
    }
   },
   "source": [
    "Finally we multiply $A$ by $L_3$ defined as\n",
    "\n",
    "\n",
    "$$\n",
    "    L_3 = \\begin{bmatrix}\n",
    "         1 &   &    &   \\\\\n",
    "           & 1 &    &   \\\\\n",
    "           &   &  1 &   \\\\\n",
    "           &   & -1 & 1\n",
    "    \\end{bmatrix} \\text{ so that } L_3 L_2 L_1 A = \\begin{bmatrix}\n",
    "        2 & 1 & 1 & 0 \\\\\n",
    "          & 1 & 1 & 1 \\\\\n",
    "          &   & 2 & 2 \\\\\n",
    "          &   &   & 2\n",
    "    \\end{bmatrix}\n",
    "$$\n"
   ]
  },
  {
   "cell_type": "markdown",
   "metadata": {
    "slideshow": {
     "slide_type": "subslide"
    }
   },
   "source": [
    "completing the factorization with\n",
    "$$\n",
    "\\begin{align*}\n",
    "    L^{-1} = L_3 L_2 L_1 &= \\begin{bmatrix}\n",
    "         1 &   &    &   \\\\\n",
    "           & 1 &    &   \\\\\n",
    "           &   &  1 &   \\\\\n",
    "           &   & -1 & 1\n",
    "    \\end{bmatrix}\n",
    "    \\begin{bmatrix}\n",
    "         1 &    &   &   \\\\\n",
    "           &  1 &   &   \\\\\n",
    "           & -3 & 1 &   \\\\\n",
    "           & -4 &   & 1\n",
    "    \\end{bmatrix} \n",
    "    \\begin{bmatrix}\n",
    "         1 &   &   &   \\\\\n",
    "        -2 & 1 &   &   \\\\\n",
    "        -4 &   & 1 &   \\\\\n",
    "        -3 &   &   & 1\n",
    "    \\end{bmatrix}, \\\\\n",
    "    U &= \\begin{bmatrix}\n",
    "        2 & 1 & 1 & 0 \\\\\n",
    "          & 1 & 1 & 1 \\\\\n",
    "          &   & 2 & 2 \\\\\n",
    "          &   &   & 2\n",
    "    \\end{bmatrix}\n",
    "    \\end{align*}\n",
    "$$"
   ]
  },
  {
   "cell_type": "markdown",
   "metadata": {
    "slideshow": {
     "slide_type": "subslide"
    }
   },
   "source": [
    "Inverting $L^{-1}$ we can finally write $A$ as\n",
    "$$\n",
    "    A =\n",
    "    \\begin{bmatrix}\n",
    "         1 &   &   &   \\\\\n",
    "         2 & 1 &   &   \\\\\n",
    "         4 & 3 & 1 &   \\\\\n",
    "         3 & 4 & 1 & 1\n",
    "    \\end{bmatrix}\\begin{bmatrix}\n",
    "        2 & 1 & 1 & 0 \\\\\n",
    "          & 1 & 1 & 1 \\\\\n",
    "          &   & 2 & 2 \\\\\n",
    "          &   &   & 2\n",
    "    \\end{bmatrix}\n",
    "$$"
   ]
  },
  {
   "cell_type": "markdown",
   "metadata": {
    "slideshow": {
     "slide_type": "subslide"
    }
   },
   "source": [
    "Inverting $L^{-1}$ ?\n",
    "\n",
    "$$\n",
    "L^{-1} \\begin{bmatrix} l_1 & l_2 &\\cdots& l_m  \\end{bmatrix} = I = \\begin{bmatrix} e_1 & e_2 &\\cdots& e_m  \\end{bmatrix}\n",
    "$$"
   ]
  },
  {
   "cell_type": "markdown",
   "metadata": {
    "slideshow": {
     "slide_type": "slide"
    }
   },
   "source": [
    "## Pivoting\n",
    "\n",
    "Pivoting allows us  to perform $LU$ factorization in a more robust way. As a simple example take the matrix\n",
    "\n",
    "$$\n",
    "    A = \\begin{bmatrix} 0 & 1 \\\\ 1 & 1 \\end{bmatrix},  \\quad  \\hat A = \\begin{bmatrix} 1 & 1 \\\\ 0 & 1 \\end{bmatrix}.\n",
    "$$\n",
    "\n",
    "Without switch the rows Gaussian elimination would fail at the first step!  This is made more hazardous if we consider the matrix\n",
    "\n",
    "$$\n",
    "    A = \\begin{bmatrix} 10^{-17} & 1 \\\\ 1 & 1 \\end{bmatrix}.\n",
    "$$\n",
    "\n",
    "on a finite precision machine.  In principle any row and column can be **pivoted** so that at each step we have the maximum value being used (on the diagonal) to perform the operations that compose the matrices $L_j$.  In practice however we restrict ourselves to only pivoting rows of the matrix (called **partial pivoting**).\n",
    "\n",
    "__Reminder__: $ \\text{float}(x/y) = x/y (1 + \\varepsilon).$"
   ]
  },
  {
   "cell_type": "markdown",
   "metadata": {
    "slideshow": {
     "slide_type": "subslide"
    }
   },
   "source": [
    "Consider again the example from above and switch the 1st and 3rd rows using the criteria that we always want to use the largest value to do perform the reduction.  Defining the first pivot matrix as\n",
    "\n",
    "$$\n",
    "    P_1 = \\begin{bmatrix}\n",
    "          &   & 1 &   \\\\\n",
    "          & 1 &   &   \\\\\n",
    "        1 &   &   &   \\\\\n",
    "          &   &   & 1\n",
    "    \\end{bmatrix}, \\quad \n",
    "     A = \\begin{bmatrix}\n",
    "        \\color{blue}{2} & \\color{blue}{1} & \\color{blue}{1} & \\color{blue}{0} \\\\\n",
    "        {4} & 3 & 3 & 1 \\\\\n",
    "        \\boxed{\\color{blue}{8}} & \\color{blue}{7} & \\color{blue}{9} & \\color{blue}{5} \\\\\n",
    "        {6} & 7 & 9 & 8\n",
    "    \\end{bmatrix},\n",
    "    \\quad\n",
    "    P_1 A = \\begin{bmatrix}\n",
    "        8 & 7 & 9 & 5 \\\\\n",
    "        4 & 3 & 3 & 1 \\\\\n",
    "        2 & 1 & 1 & 0 \\\\\n",
    "        6 & 7 & 9 & 8\n",
    "    \\end{bmatrix}\n",
    "$$"
   ]
  },
  {
   "cell_type": "markdown",
   "metadata": {
    "slideshow": {
     "slide_type": "subslide"
    }
   },
   "source": [
    "Now defining the first $L_1$ as\n",
    "\n",
    "$$\n",
    "    L_1 = \\begin{bmatrix}\n",
    "        1 &   &   &   \\\\\n",
    "        -\\frac{1}{2} & 1 &   &   \\\\\n",
    "        -\\frac{1}{4} &   & 1 &   \\\\\n",
    "        -\\frac{3}{4} &   &   & 1\n",
    "    \\end{bmatrix} \\quad \\text{so that} \\quad\n",
    "    L_1 P_1 A = \\begin{bmatrix}\n",
    "        8 & 7 & 9 & 5 \\\\\n",
    "          &\\color{red}{ -\\frac{1}{2}} & -\\frac{3}{2} & -\\frac{3}{2} \\\\\n",
    "          & \\color{red}{-\\frac{3}{4}} & -\\frac{5}{4} & -\\frac{5}{4} \\\\\n",
    "          & \\boxed{\\color{red}{\\frac{7}{4}}} & \\frac{9}{4} & \\frac{17}{4}\n",
    "    \\end{bmatrix}.\n",
    "$$"
   ]
  },
  {
   "cell_type": "markdown",
   "metadata": {
    "slideshow": {
     "slide_type": "subslide"
    }
   },
   "source": [
    "Again examining the remaining values in column 2 the maximum value lies in row 4 so we want to interchange this with the second row (note that we do not want to move the first row as that will bring non-zero values into the first column below the diagonal).\n",
    "\n",
    "$$\n",
    "    P_2 = \\begin{bmatrix}\n",
    "        1 &   &   &   \\\\\n",
    "          &   &   & 1 \\\\\n",
    "          &   & 1 &   \\\\\n",
    "          & 1 &   &\n",
    "    \\end{bmatrix}  \\quad \\text{and} \\quad \n",
    "    L_2 = \\begin{bmatrix}\n",
    "        1 &   &   &   \\\\\n",
    "          & 1 &   &   \\\\\n",
    "          & \\frac{3}{7} & 1 &   \\\\\n",
    "          & \\frac{2}{7}  &   & 1\n",
    "    \\end{bmatrix}  \\quad  \\text{so that}  \\quad \n",
    "    L_2 P_2 L_1 P_1 A = \\begin{bmatrix}\n",
    "        8 &            7 &            9 &             5 \\\\\n",
    "          &  \\frac{7}{4} &  \\frac{9}{4} &  \\frac{17}{4} \\\\\n",
    "          &              & \\color{red}{-\\frac{2}{7}} &   \\frac{4}{7} \\\\\n",
    "          &              & \\boxed{\\color{red}{-\\frac{6}{7}}} &  -\\frac{2}{7}\n",
    "    \\end{bmatrix}.\n",
    "$$"
   ]
  },
  {
   "cell_type": "markdown",
   "metadata": {
    "slideshow": {
     "slide_type": "subslide"
    }
   },
   "source": [
    "Finally\n",
    "$$\n",
    "    P_3 = \\begin{bmatrix}\n",
    "        1 &   &   &   \\\\\n",
    "          & 1 &   &   \\\\\n",
    "          &   &   & 1 \\\\\n",
    "          &   & 1 &\n",
    "    \\end{bmatrix}  \\quad \\text{and} \\quad \n",
    "    L_3 = \\begin{bmatrix}\n",
    "        1 &   &   &   \\\\\n",
    "          & 1 &   &   \\\\\n",
    "          &   & 1 &   \\\\\n",
    "          &   & -\\frac{1}{3} & 1\n",
    "    \\end{bmatrix} \\quad \\text{so that} \\quad\n",
    "    L_3 P_3 L_2 P_2 L_1 P_1 A = \\begin{bmatrix}\n",
    "        8 &            7 &            9 &             5 \\\\\n",
    "          &  \\frac{7}{4} &  \\frac{9}{4} &  \\frac{17}{4} \\\\\n",
    "          &              & -\\frac{6}{7} &  -\\frac{2}{7} \\\\\n",
    "          &              &              &   \\frac{2}{3} \\\\\n",
    "    \\end{bmatrix}.\n",
    "$$"
   ]
  },
  {
   "cell_type": "markdown",
   "metadata": {
    "slideshow": {
     "slide_type": "subslide"
    }
   },
   "source": [
    "Some observations about row permutation matrices:\n",
    "\n",
    "$$\n",
    "    P_3 = \n",
    "    \\begin{bmatrix}\n",
    "        1 &   &   &   \\\\\n",
    "          & 1 &   &   \\\\\n",
    "          &   &   & 1 \\\\\n",
    "          &   & 1 &\n",
    "    \\end{bmatrix}, \\quad  P_3^T  = \n",
    "    \\begin{bmatrix}\n",
    "        1 &   &   &   \\\\\n",
    "          & 1 &   &   \\\\\n",
    "          &   &   & 1 \\\\\n",
    "          &   & 1 &\n",
    "    \\end{bmatrix}  \n",
    "$$\n",
    "\n",
    "* $P_j^T = P_j$\n",
    "* $P_j^2 =  P_j P_j   = I$"
   ]
  },
  {
   "cell_type": "markdown",
   "metadata": {
    "slideshow": {
     "slide_type": "subslide"
    }
   },
   "source": [
    "### LU Factorization with Partial Pivoting\n",
    "\n",
    "Pivot matrices are examples of `Permutation` matrices. They are permutations of rows (or colums) of the identity matrix. General permuation matriceshave the property that $P_j^{-1}=P_j^T$.\n",
    "\n",
    "Can we find a single effective permutation for  the ``LU factorization`` such that\n",
    "$\n",
    "   L_2 P_2 L_1 P_1 A = U\n",
    "$\n",
    "can be written as  \n",
    "$\n",
    "(L'_2 L'_1)  P_2 P_1 A {=} U?\n",
    "$\n",
    "\n",
    "\n",
    "$$\n",
    "    L_2 P_2 L_1 P_1 A = U,\n",
    "$$\n",
    "\n",
    "$$\n",
    "    L_2 P_2 L_1 \\underbrace{P_2^{-1} P_2}_I P_1 A = U,\n",
    "$$\n",
    "\n",
    "\n",
    "$$\n",
    "    L_2 \\underbrace{ P_2 L_1 P_2^{-1}}_{L_1'} P_2 P_1 A = U.\n",
    "$$"
   ]
  },
  {
   "cell_type": "markdown",
   "metadata": {
    "slideshow": {
     "slide_type": "subslide"
    }
   },
   "source": [
    "We can extend this to multiple levels:\n",
    "\n",
    "$$\n",
    "    L'_3 = L_3, \\quad L'_2 = P_3 L_2 P_3^{-1}, \\quad \\text{and} \\quad L'_1 = P_3 P_2 L_1 P_2^{-1} P_3^{-1}.\n",
    "$$\n",
    "\n",
    "The new matrices $L'_j$ are permutations (in columns and rows) of $L_j$"
   ]
  },
  {
   "cell_type": "markdown",
   "metadata": {
    "slideshow": {
     "slide_type": "subslide"
    }
   },
   "source": [
    "In general then the $LU$ factorization with partial pivoting of the above example can be written as\n",
    "\n",
    "$$\n",
    "\\begin{align*}\n",
    "(L'_3 L'_2 L'_1)  P_3 P_2 P_1 A &= U,\\\\\n",
    "P A &= LU,\n",
    "\\end{align*}\n",
    "$$\n",
    "\n",
    "$$\n",
    "    \\underbrace{\\begin{bmatrix}\n",
    "          &   & 1 &   \\\\\n",
    "          &   &   & 1 \\\\\n",
    "          & 1 &   &   \\\\\n",
    "        1 &   &   & \n",
    "    \\end{bmatrix}}_{P = P_3 P_2 P_1} \\underbrace{\\begin{bmatrix}\n",
    "        2 & 1 & 1 & 0 \\\\\n",
    "        4 & 3 & 3 & 1 \\\\\n",
    "        8 & 7 & 9 & 5 \\\\\n",
    "        6 & 7 & 9 & 8\n",
    "    \\end{bmatrix}}_{A} = \n",
    "    \\underbrace{\\begin{bmatrix}\n",
    "        1           &              &              &   \\\\\n",
    "        \\frac{3}{4} &            1 &              &   \\\\\n",
    "        \\frac{1}{2} & -\\frac{2}{7} &            1 &   \\\\\n",
    "        \\frac{1}{4} & -\\frac{3}{7} & \\frac{1}{3}  & 1 \\\\\n",
    "    \\end{bmatrix}}_{L = {(L'_3 L'_2 L'_1)^{-1}}}\n",
    "    \\underbrace{\\begin{bmatrix}\n",
    "        8 &            7 &            9 &             5 \\\\\n",
    "          &  \\frac{7}{4} &  \\frac{9}{4} &  \\frac{17}{4} \\\\\n",
    "          &              & -\\frac{6}{7} &  -\\frac{2}{7} \\\\\n",
    "          &              &              &   \\frac{2}{3} \\\\\n",
    "    \\end{bmatrix}}_{U}\n",
    "$$"
   ]
  },
  {
   "cell_type": "markdown",
   "metadata": {
    "slideshow": {
     "slide_type": "subslide"
    }
   },
   "source": [
    "The algorithm for the general factorization with partial pivoting then can be written as\n",
    "```\n",
    "U = A\n",
    "L = I\n",
    "P = I\n",
    "for k = 1 to m - 1\n",
    "    Select i >= k to maximize |u_{i,k}|\n",
    "    P[k, :] <==> P[i, :]\n",
    "    U[k, k:m] <==> U[i, k:m]\n",
    "    L[k, 1:k-1] <==> L[i, 1:k-1]\n",
    "    \n",
    "    for j = k + 1 to m\n",
    "        L[j, k] = U[j, k] / U[k, k]\n",
    "        U[j, k:m] = U[j, k:m] - L[j, k] * U[k, k:m]\n",
    "```\n",
    "where `<==>` represents swapping of the two rows indicated."
   ]
  },
  {
   "cell_type": "markdown",
   "metadata": {
    "slideshow": {
     "slide_type": "slide"
    }
   },
   "source": [
    "## Solving $Ax = b$\n",
    "\n",
    "To complete our discussion lets consider the solution of the linear system $Ax = b$.  We now have a factorization of the matrix $PA = LU$ so that the new system is $ LU x = Pb$ (note that pivoting is allowed as long as we also interchange the elements of $b$ via $P \\cdot b$).  We can do this in two steps:\n",
    "\n",
    "1. Compute the solution to $L y = P b$ using forward substitution.\n",
    "\n",
    "1. Compute the solution to $U x = y$ using backward substitution.\n"
   ]
  },
  {
   "cell_type": "markdown",
   "metadata": {
    "slideshow": {
     "slide_type": "subslide"
    }
   },
   "source": [
    "### Forward Substitution\n",
    "\n",
    "For forward substitution we proceed from the first row and progress downwards through the matrix.  We can then consider the general $i$th row with\n",
    "$$\n",
    "    L_{i,1} y_1 + L_{i,2} y_2 + \\cdots + L_{i,i-1} y_{i-1} + y_i = b_i\n",
    "$$\n",
    "noting that we are using the fact that the matrix $L$ has 1 on its diagonal.  We can now solve for $y_i$ as\n",
    "$$\n",
    "    y_i = b_i - \\left( L_{i,1} y_1 + L_{i,2} y_2 + \\cdots + L_{i,i-1} y_{i-1} \\right ).\n",
    "$$"
   ]
  },
  {
   "cell_type": "markdown",
   "metadata": {
    "slideshow": {
     "slide_type": "subslide"
    }
   },
   "source": [
    "### Backward Substitution\n",
    "\n",
    "Backwards substitution requires us to move from the last row of $U$ and move upwards.  We can consider again the general $i$th row with\n",
    "$$\n",
    "    U_{i,i} x_i + U_{i,i+1} x_{i+1} + \\ldots + U_{i,m-1} x_{m-1} + U_{i,m} x_m = y_i.\n",
    "$$\n",
    "We can now solve for $x_i$ as\n",
    "$$\n",
    "    x_i = \\frac{1}{U_{i,i}} \\left( y_i - ( U_{i,i+1} x_{i+1} + \\ldots + U_{i,m-1} x_{m-1} + U_{i,m} x_m) \\right )\n",
    "$$"
   ]
  },
  {
   "cell_type": "markdown",
   "metadata": {
    "slideshow": {
     "slide_type": "subslide"
    }
   },
   "source": [
    "### LU decomposition complexity\n",
    "\n",
    " * Backward/forward substitution has $\\sum_{k=0}^{m} k = O(m^2)$ operations.\n",
    " * $LU$ factorization is in  the order of $O(m^3)$\n",
    "\n",
    "\n"
   ]
  },
  {
   "cell_type": "code",
   "execution_count": null,
   "metadata": {},
   "outputs": [],
   "source": []
  },
  {
   "cell_type": "code",
   "execution_count": null,
   "metadata": {},
   "outputs": [],
   "source": []
  }
 ],
 "metadata": {
  "anaconda-cloud": {},
  "celltoolbar": "Slideshow",
  "kernelspec": {
   "display_name": "Python 3",
   "language": "python",
   "name": "python3"
  },
  "language_info": {
   "codemirror_mode": {
    "name": "ipython",
    "version": 3
   },
   "file_extension": ".py",
   "mimetype": "text/x-python",
   "name": "python",
   "nbconvert_exporter": "python",
   "pygments_lexer": "ipython3",
   "version": "3.8.3"
  },
  "latex_envs": {
   "bibliofile": "biblio.bib",
   "cite_by": "apalike",
   "current_citInitial": 1,
   "eqLabelWithNumbers": true,
   "eqNumInitial": 0
  }
 },
 "nbformat": 4,
 "nbformat_minor": 4
}
